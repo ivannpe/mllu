{
  "nbformat": 4,
  "nbformat_minor": 0,
  "metadata": {
    "colab": {
      "name": "Pena_HW-2 Spam Classification with LSTM.ipynb",
      "provenance": [],
      "collapsed_sections": []
    },
    "kernelspec": {
      "name": "python3",
      "display_name": "Python 3"
    },
    "widgets": {
      "application/vnd.jupyter.widget-state+json": {
        "1c9dad891f4b4ccf9e7373b5602fa6c0": {
          "model_module": "@jupyter-widgets/controls",
          "model_name": "HBoxModel",
          "state": {
            "_view_name": "HBoxView",
            "_dom_classes": [],
            "_model_name": "HBoxModel",
            "_view_module": "@jupyter-widgets/controls",
            "_model_module_version": "1.5.0",
            "_view_count": null,
            "_view_module_version": "1.5.0",
            "box_style": "",
            "layout": "IPY_MODEL_e4e5285a24a84ab49581626e1e403e34",
            "_model_module": "@jupyter-widgets/controls",
            "children": [
              "IPY_MODEL_bbc61fd8810945ac85f3d25b922e4a54",
              "IPY_MODEL_ca00bfe4e5d2451faa90072d5e092980"
            ]
          }
        },
        "e4e5285a24a84ab49581626e1e403e34": {
          "model_module": "@jupyter-widgets/base",
          "model_name": "LayoutModel",
          "state": {
            "_view_name": "LayoutView",
            "grid_template_rows": null,
            "right": null,
            "justify_content": null,
            "_view_module": "@jupyter-widgets/base",
            "overflow": null,
            "_model_module_version": "1.2.0",
            "_view_count": null,
            "flex_flow": null,
            "width": null,
            "min_width": null,
            "border": null,
            "align_items": null,
            "bottom": null,
            "_model_module": "@jupyter-widgets/base",
            "top": null,
            "grid_column": null,
            "overflow_y": null,
            "overflow_x": null,
            "grid_auto_flow": null,
            "grid_area": null,
            "grid_template_columns": null,
            "flex": null,
            "_model_name": "LayoutModel",
            "justify_items": null,
            "grid_row": null,
            "max_height": null,
            "align_content": null,
            "visibility": null,
            "align_self": null,
            "height": null,
            "min_height": null,
            "padding": null,
            "grid_auto_rows": null,
            "grid_gap": null,
            "max_width": null,
            "order": null,
            "_view_module_version": "1.2.0",
            "grid_template_areas": null,
            "object_position": null,
            "object_fit": null,
            "grid_auto_columns": null,
            "margin": null,
            "display": null,
            "left": null
          }
        },
        "bbc61fd8810945ac85f3d25b922e4a54": {
          "model_module": "@jupyter-widgets/controls",
          "model_name": "IntProgressModel",
          "state": {
            "_view_name": "ProgressView",
            "style": "IPY_MODEL_6305dc1bfde54c92ba0cdcc7195fb04e",
            "_dom_classes": [],
            "description": "",
            "_model_name": "IntProgressModel",
            "bar_style": "success",
            "max": 3902,
            "_view_module": "@jupyter-widgets/controls",
            "_model_module_version": "1.5.0",
            "value": 3902,
            "_view_count": null,
            "_view_module_version": "1.5.0",
            "orientation": "horizontal",
            "min": 0,
            "description_tooltip": null,
            "_model_module": "@jupyter-widgets/controls",
            "layout": "IPY_MODEL_f25f2dc16df3429d8be65dbea1621309"
          }
        },
        "ca00bfe4e5d2451faa90072d5e092980": {
          "model_module": "@jupyter-widgets/controls",
          "model_name": "HTMLModel",
          "state": {
            "_view_name": "HTMLView",
            "style": "IPY_MODEL_ea3b568ef8d44b4aa9ec104165adbc63",
            "_dom_classes": [],
            "description": "",
            "_model_name": "HTMLModel",
            "placeholder": "​",
            "_view_module": "@jupyter-widgets/controls",
            "_model_module_version": "1.5.0",
            "value": "100% 3902/3902 [00:01&lt;00:00, 2596.72it/s]",
            "_view_count": null,
            "_view_module_version": "1.5.0",
            "description_tooltip": null,
            "_model_module": "@jupyter-widgets/controls",
            "layout": "IPY_MODEL_ea61b6ea246f4476a3b3bb7b7228315e"
          }
        },
        "6305dc1bfde54c92ba0cdcc7195fb04e": {
          "model_module": "@jupyter-widgets/controls",
          "model_name": "ProgressStyleModel",
          "state": {
            "_view_name": "StyleView",
            "_model_name": "ProgressStyleModel",
            "description_width": "",
            "_view_module": "@jupyter-widgets/base",
            "_model_module_version": "1.5.0",
            "_view_count": null,
            "_view_module_version": "1.2.0",
            "bar_color": null,
            "_model_module": "@jupyter-widgets/controls"
          }
        },
        "f25f2dc16df3429d8be65dbea1621309": {
          "model_module": "@jupyter-widgets/base",
          "model_name": "LayoutModel",
          "state": {
            "_view_name": "LayoutView",
            "grid_template_rows": null,
            "right": null,
            "justify_content": null,
            "_view_module": "@jupyter-widgets/base",
            "overflow": null,
            "_model_module_version": "1.2.0",
            "_view_count": null,
            "flex_flow": null,
            "width": null,
            "min_width": null,
            "border": null,
            "align_items": null,
            "bottom": null,
            "_model_module": "@jupyter-widgets/base",
            "top": null,
            "grid_column": null,
            "overflow_y": null,
            "overflow_x": null,
            "grid_auto_flow": null,
            "grid_area": null,
            "grid_template_columns": null,
            "flex": null,
            "_model_name": "LayoutModel",
            "justify_items": null,
            "grid_row": null,
            "max_height": null,
            "align_content": null,
            "visibility": null,
            "align_self": null,
            "height": null,
            "min_height": null,
            "padding": null,
            "grid_auto_rows": null,
            "grid_gap": null,
            "max_width": null,
            "order": null,
            "_view_module_version": "1.2.0",
            "grid_template_areas": null,
            "object_position": null,
            "object_fit": null,
            "grid_auto_columns": null,
            "margin": null,
            "display": null,
            "left": null
          }
        },
        "ea3b568ef8d44b4aa9ec104165adbc63": {
          "model_module": "@jupyter-widgets/controls",
          "model_name": "DescriptionStyleModel",
          "state": {
            "_view_name": "StyleView",
            "_model_name": "DescriptionStyleModel",
            "description_width": "",
            "_view_module": "@jupyter-widgets/base",
            "_model_module_version": "1.5.0",
            "_view_count": null,
            "_view_module_version": "1.2.0",
            "_model_module": "@jupyter-widgets/controls"
          }
        },
        "ea61b6ea246f4476a3b3bb7b7228315e": {
          "model_module": "@jupyter-widgets/base",
          "model_name": "LayoutModel",
          "state": {
            "_view_name": "LayoutView",
            "grid_template_rows": null,
            "right": null,
            "justify_content": null,
            "_view_module": "@jupyter-widgets/base",
            "overflow": null,
            "_model_module_version": "1.2.0",
            "_view_count": null,
            "flex_flow": null,
            "width": null,
            "min_width": null,
            "border": null,
            "align_items": null,
            "bottom": null,
            "_model_module": "@jupyter-widgets/base",
            "top": null,
            "grid_column": null,
            "overflow_y": null,
            "overflow_x": null,
            "grid_auto_flow": null,
            "grid_area": null,
            "grid_template_columns": null,
            "flex": null,
            "_model_name": "LayoutModel",
            "justify_items": null,
            "grid_row": null,
            "max_height": null,
            "align_content": null,
            "visibility": null,
            "align_self": null,
            "height": null,
            "min_height": null,
            "padding": null,
            "grid_auto_rows": null,
            "grid_gap": null,
            "max_width": null,
            "order": null,
            "_view_module_version": "1.2.0",
            "grid_template_areas": null,
            "object_position": null,
            "object_fit": null,
            "grid_auto_columns": null,
            "margin": null,
            "display": null,
            "left": null
          }
        },
        "19123c7402d54eedbbda161eb448f5f0": {
          "model_module": "@jupyter-widgets/controls",
          "model_name": "HBoxModel",
          "state": {
            "_view_name": "HBoxView",
            "_dom_classes": [],
            "_model_name": "HBoxModel",
            "_view_module": "@jupyter-widgets/controls",
            "_model_module_version": "1.5.0",
            "_view_count": null,
            "_view_module_version": "1.5.0",
            "box_style": "",
            "layout": "IPY_MODEL_4f651bf8dc154225966d2b7654b45fdf",
            "_model_module": "@jupyter-widgets/controls",
            "children": [
              "IPY_MODEL_e52575ddcd514d09ab190080f257e92c",
              "IPY_MODEL_d7ae6fe76afe43469e9e11c205b184aa"
            ]
          }
        },
        "4f651bf8dc154225966d2b7654b45fdf": {
          "model_module": "@jupyter-widgets/base",
          "model_name": "LayoutModel",
          "state": {
            "_view_name": "LayoutView",
            "grid_template_rows": null,
            "right": null,
            "justify_content": null,
            "_view_module": "@jupyter-widgets/base",
            "overflow": null,
            "_model_module_version": "1.2.0",
            "_view_count": null,
            "flex_flow": null,
            "width": null,
            "min_width": null,
            "border": null,
            "align_items": null,
            "bottom": null,
            "_model_module": "@jupyter-widgets/base",
            "top": null,
            "grid_column": null,
            "overflow_y": null,
            "overflow_x": null,
            "grid_auto_flow": null,
            "grid_area": null,
            "grid_template_columns": null,
            "flex": null,
            "_model_name": "LayoutModel",
            "justify_items": null,
            "grid_row": null,
            "max_height": null,
            "align_content": null,
            "visibility": null,
            "align_self": null,
            "height": null,
            "min_height": null,
            "padding": null,
            "grid_auto_rows": null,
            "grid_gap": null,
            "max_width": null,
            "order": null,
            "_view_module_version": "1.2.0",
            "grid_template_areas": null,
            "object_position": null,
            "object_fit": null,
            "grid_auto_columns": null,
            "margin": null,
            "display": null,
            "left": null
          }
        },
        "e52575ddcd514d09ab190080f257e92c": {
          "model_module": "@jupyter-widgets/controls",
          "model_name": "IntProgressModel",
          "state": {
            "_view_name": "ProgressView",
            "style": "IPY_MODEL_819201289f84446382fa24c394d8184e",
            "_dom_classes": [],
            "description": "",
            "_model_name": "IntProgressModel",
            "bar_style": "success",
            "max": 835,
            "_view_module": "@jupyter-widgets/controls",
            "_model_module_version": "1.5.0",
            "value": 835,
            "_view_count": null,
            "_view_module_version": "1.5.0",
            "orientation": "horizontal",
            "min": 0,
            "description_tooltip": null,
            "_model_module": "@jupyter-widgets/controls",
            "layout": "IPY_MODEL_c946c780066f48308f5a7e9cc55a2d74"
          }
        },
        "d7ae6fe76afe43469e9e11c205b184aa": {
          "model_module": "@jupyter-widgets/controls",
          "model_name": "HTMLModel",
          "state": {
            "_view_name": "HTMLView",
            "style": "IPY_MODEL_da0b905070fb4afe9d937b659180b417",
            "_dom_classes": [],
            "description": "",
            "_model_name": "HTMLModel",
            "placeholder": "​",
            "_view_module": "@jupyter-widgets/controls",
            "_model_module_version": "1.5.0",
            "value": "100% 835/835 [00:00&lt;00:00, 2932.70it/s]",
            "_view_count": null,
            "_view_module_version": "1.5.0",
            "description_tooltip": null,
            "_model_module": "@jupyter-widgets/controls",
            "layout": "IPY_MODEL_a43a1f81b49d4a0ebc1d94b3a692ec28"
          }
        },
        "819201289f84446382fa24c394d8184e": {
          "model_module": "@jupyter-widgets/controls",
          "model_name": "ProgressStyleModel",
          "state": {
            "_view_name": "StyleView",
            "_model_name": "ProgressStyleModel",
            "description_width": "",
            "_view_module": "@jupyter-widgets/base",
            "_model_module_version": "1.5.0",
            "_view_count": null,
            "_view_module_version": "1.2.0",
            "bar_color": null,
            "_model_module": "@jupyter-widgets/controls"
          }
        },
        "c946c780066f48308f5a7e9cc55a2d74": {
          "model_module": "@jupyter-widgets/base",
          "model_name": "LayoutModel",
          "state": {
            "_view_name": "LayoutView",
            "grid_template_rows": null,
            "right": null,
            "justify_content": null,
            "_view_module": "@jupyter-widgets/base",
            "overflow": null,
            "_model_module_version": "1.2.0",
            "_view_count": null,
            "flex_flow": null,
            "width": null,
            "min_width": null,
            "border": null,
            "align_items": null,
            "bottom": null,
            "_model_module": "@jupyter-widgets/base",
            "top": null,
            "grid_column": null,
            "overflow_y": null,
            "overflow_x": null,
            "grid_auto_flow": null,
            "grid_area": null,
            "grid_template_columns": null,
            "flex": null,
            "_model_name": "LayoutModel",
            "justify_items": null,
            "grid_row": null,
            "max_height": null,
            "align_content": null,
            "visibility": null,
            "align_self": null,
            "height": null,
            "min_height": null,
            "padding": null,
            "grid_auto_rows": null,
            "grid_gap": null,
            "max_width": null,
            "order": null,
            "_view_module_version": "1.2.0",
            "grid_template_areas": null,
            "object_position": null,
            "object_fit": null,
            "grid_auto_columns": null,
            "margin": null,
            "display": null,
            "left": null
          }
        },
        "da0b905070fb4afe9d937b659180b417": {
          "model_module": "@jupyter-widgets/controls",
          "model_name": "DescriptionStyleModel",
          "state": {
            "_view_name": "StyleView",
            "_model_name": "DescriptionStyleModel",
            "description_width": "",
            "_view_module": "@jupyter-widgets/base",
            "_model_module_version": "1.5.0",
            "_view_count": null,
            "_view_module_version": "1.2.0",
            "_model_module": "@jupyter-widgets/controls"
          }
        },
        "a43a1f81b49d4a0ebc1d94b3a692ec28": {
          "model_module": "@jupyter-widgets/base",
          "model_name": "LayoutModel",
          "state": {
            "_view_name": "LayoutView",
            "grid_template_rows": null,
            "right": null,
            "justify_content": null,
            "_view_module": "@jupyter-widgets/base",
            "overflow": null,
            "_model_module_version": "1.2.0",
            "_view_count": null,
            "flex_flow": null,
            "width": null,
            "min_width": null,
            "border": null,
            "align_items": null,
            "bottom": null,
            "_model_module": "@jupyter-widgets/base",
            "top": null,
            "grid_column": null,
            "overflow_y": null,
            "overflow_x": null,
            "grid_auto_flow": null,
            "grid_area": null,
            "grid_template_columns": null,
            "flex": null,
            "_model_name": "LayoutModel",
            "justify_items": null,
            "grid_row": null,
            "max_height": null,
            "align_content": null,
            "visibility": null,
            "align_self": null,
            "height": null,
            "min_height": null,
            "padding": null,
            "grid_auto_rows": null,
            "grid_gap": null,
            "max_width": null,
            "order": null,
            "_view_module_version": "1.2.0",
            "grid_template_areas": null,
            "object_position": null,
            "object_fit": null,
            "grid_auto_columns": null,
            "margin": null,
            "display": null,
            "left": null
          }
        },
        "2e56bb6f0f0f447199f1f4d0c340eb69": {
          "model_module": "@jupyter-widgets/controls",
          "model_name": "HBoxModel",
          "state": {
            "_view_name": "HBoxView",
            "_dom_classes": [],
            "_model_name": "HBoxModel",
            "_view_module": "@jupyter-widgets/controls",
            "_model_module_version": "1.5.0",
            "_view_count": null,
            "_view_module_version": "1.5.0",
            "box_style": "",
            "layout": "IPY_MODEL_ff369df4c13f4daba631bf0ec88e0f14",
            "_model_module": "@jupyter-widgets/controls",
            "children": [
              "IPY_MODEL_13217587ea624538be78b5304aebce89",
              "IPY_MODEL_53b7ea73f160473f9e17e1a1563db83c"
            ]
          }
        },
        "ff369df4c13f4daba631bf0ec88e0f14": {
          "model_module": "@jupyter-widgets/base",
          "model_name": "LayoutModel",
          "state": {
            "_view_name": "LayoutView",
            "grid_template_rows": null,
            "right": null,
            "justify_content": null,
            "_view_module": "@jupyter-widgets/base",
            "overflow": null,
            "_model_module_version": "1.2.0",
            "_view_count": null,
            "flex_flow": null,
            "width": null,
            "min_width": null,
            "border": null,
            "align_items": null,
            "bottom": null,
            "_model_module": "@jupyter-widgets/base",
            "top": null,
            "grid_column": null,
            "overflow_y": null,
            "overflow_x": null,
            "grid_auto_flow": null,
            "grid_area": null,
            "grid_template_columns": null,
            "flex": null,
            "_model_name": "LayoutModel",
            "justify_items": null,
            "grid_row": null,
            "max_height": null,
            "align_content": null,
            "visibility": null,
            "align_self": null,
            "height": null,
            "min_height": null,
            "padding": null,
            "grid_auto_rows": null,
            "grid_gap": null,
            "max_width": null,
            "order": null,
            "_view_module_version": "1.2.0",
            "grid_template_areas": null,
            "object_position": null,
            "object_fit": null,
            "grid_auto_columns": null,
            "margin": null,
            "display": null,
            "left": null
          }
        },
        "13217587ea624538be78b5304aebce89": {
          "model_module": "@jupyter-widgets/controls",
          "model_name": "IntProgressModel",
          "state": {
            "_view_name": "ProgressView",
            "style": "IPY_MODEL_c0cd0d7d1ca94edf94aec35cd80be7a1",
            "_dom_classes": [],
            "description": "",
            "_model_name": "IntProgressModel",
            "bar_style": "success",
            "max": 835,
            "_view_module": "@jupyter-widgets/controls",
            "_model_module_version": "1.5.0",
            "value": 835,
            "_view_count": null,
            "_view_module_version": "1.5.0",
            "orientation": "horizontal",
            "min": 0,
            "description_tooltip": null,
            "_model_module": "@jupyter-widgets/controls",
            "layout": "IPY_MODEL_b5ae795b8045432fb72b95549f8ec8d1"
          }
        },
        "53b7ea73f160473f9e17e1a1563db83c": {
          "model_module": "@jupyter-widgets/controls",
          "model_name": "HTMLModel",
          "state": {
            "_view_name": "HTMLView",
            "style": "IPY_MODEL_e8bd11b9306340f9953576befd0dfb68",
            "_dom_classes": [],
            "description": "",
            "_model_name": "HTMLModel",
            "placeholder": "​",
            "_view_module": "@jupyter-widgets/controls",
            "_model_module_version": "1.5.0",
            "value": "100% 835/835 [00:00&lt;00:00, 2799.84it/s]",
            "_view_count": null,
            "_view_module_version": "1.5.0",
            "description_tooltip": null,
            "_model_module": "@jupyter-widgets/controls",
            "layout": "IPY_MODEL_c40bedd9e9ed45ffb49f233d90d18fc4"
          }
        },
        "c0cd0d7d1ca94edf94aec35cd80be7a1": {
          "model_module": "@jupyter-widgets/controls",
          "model_name": "ProgressStyleModel",
          "state": {
            "_view_name": "StyleView",
            "_model_name": "ProgressStyleModel",
            "description_width": "",
            "_view_module": "@jupyter-widgets/base",
            "_model_module_version": "1.5.0",
            "_view_count": null,
            "_view_module_version": "1.2.0",
            "bar_color": null,
            "_model_module": "@jupyter-widgets/controls"
          }
        },
        "b5ae795b8045432fb72b95549f8ec8d1": {
          "model_module": "@jupyter-widgets/base",
          "model_name": "LayoutModel",
          "state": {
            "_view_name": "LayoutView",
            "grid_template_rows": null,
            "right": null,
            "justify_content": null,
            "_view_module": "@jupyter-widgets/base",
            "overflow": null,
            "_model_module_version": "1.2.0",
            "_view_count": null,
            "flex_flow": null,
            "width": null,
            "min_width": null,
            "border": null,
            "align_items": null,
            "bottom": null,
            "_model_module": "@jupyter-widgets/base",
            "top": null,
            "grid_column": null,
            "overflow_y": null,
            "overflow_x": null,
            "grid_auto_flow": null,
            "grid_area": null,
            "grid_template_columns": null,
            "flex": null,
            "_model_name": "LayoutModel",
            "justify_items": null,
            "grid_row": null,
            "max_height": null,
            "align_content": null,
            "visibility": null,
            "align_self": null,
            "height": null,
            "min_height": null,
            "padding": null,
            "grid_auto_rows": null,
            "grid_gap": null,
            "max_width": null,
            "order": null,
            "_view_module_version": "1.2.0",
            "grid_template_areas": null,
            "object_position": null,
            "object_fit": null,
            "grid_auto_columns": null,
            "margin": null,
            "display": null,
            "left": null
          }
        },
        "e8bd11b9306340f9953576befd0dfb68": {
          "model_module": "@jupyter-widgets/controls",
          "model_name": "DescriptionStyleModel",
          "state": {
            "_view_name": "StyleView",
            "_model_name": "DescriptionStyleModel",
            "description_width": "",
            "_view_module": "@jupyter-widgets/base",
            "_model_module_version": "1.5.0",
            "_view_count": null,
            "_view_module_version": "1.2.0",
            "_model_module": "@jupyter-widgets/controls"
          }
        },
        "c40bedd9e9ed45ffb49f233d90d18fc4": {
          "model_module": "@jupyter-widgets/base",
          "model_name": "LayoutModel",
          "state": {
            "_view_name": "LayoutView",
            "grid_template_rows": null,
            "right": null,
            "justify_content": null,
            "_view_module": "@jupyter-widgets/base",
            "overflow": null,
            "_model_module_version": "1.2.0",
            "_view_count": null,
            "flex_flow": null,
            "width": null,
            "min_width": null,
            "border": null,
            "align_items": null,
            "bottom": null,
            "_model_module": "@jupyter-widgets/base",
            "top": null,
            "grid_column": null,
            "overflow_y": null,
            "overflow_x": null,
            "grid_auto_flow": null,
            "grid_area": null,
            "grid_template_columns": null,
            "flex": null,
            "_model_name": "LayoutModel",
            "justify_items": null,
            "grid_row": null,
            "max_height": null,
            "align_content": null,
            "visibility": null,
            "align_self": null,
            "height": null,
            "min_height": null,
            "padding": null,
            "grid_auto_rows": null,
            "grid_gap": null,
            "max_width": null,
            "order": null,
            "_view_module_version": "1.2.0",
            "grid_template_areas": null,
            "object_position": null,
            "object_fit": null,
            "grid_auto_columns": null,
            "margin": null,
            "display": null,
            "left": null
          }
        },
        "a3f36e9a0d51427c9043c46b9a7fa785": {
          "model_module": "@jupyter-widgets/controls",
          "model_name": "HBoxModel",
          "state": {
            "_view_name": "HBoxView",
            "_dom_classes": [],
            "_model_name": "HBoxModel",
            "_view_module": "@jupyter-widgets/controls",
            "_model_module_version": "1.5.0",
            "_view_count": null,
            "_view_module_version": "1.5.0",
            "box_style": "",
            "layout": "IPY_MODEL_e8566217e0c44454beddd776d0022525",
            "_model_module": "@jupyter-widgets/controls",
            "children": [
              "IPY_MODEL_1e6ad73770e54b2a94c33b482a8d5b04",
              "IPY_MODEL_73fe43226b1a4bbbadd418891467d3a9"
            ]
          }
        },
        "e8566217e0c44454beddd776d0022525": {
          "model_module": "@jupyter-widgets/base",
          "model_name": "LayoutModel",
          "state": {
            "_view_name": "LayoutView",
            "grid_template_rows": null,
            "right": null,
            "justify_content": null,
            "_view_module": "@jupyter-widgets/base",
            "overflow": null,
            "_model_module_version": "1.2.0",
            "_view_count": null,
            "flex_flow": null,
            "width": null,
            "min_width": null,
            "border": null,
            "align_items": null,
            "bottom": null,
            "_model_module": "@jupyter-widgets/base",
            "top": null,
            "grid_column": null,
            "overflow_y": null,
            "overflow_x": null,
            "grid_auto_flow": null,
            "grid_area": null,
            "grid_template_columns": null,
            "flex": null,
            "_model_name": "LayoutModel",
            "justify_items": null,
            "grid_row": null,
            "max_height": null,
            "align_content": null,
            "visibility": null,
            "align_self": null,
            "height": null,
            "min_height": null,
            "padding": null,
            "grid_auto_rows": null,
            "grid_gap": null,
            "max_width": null,
            "order": null,
            "_view_module_version": "1.2.0",
            "grid_template_areas": null,
            "object_position": null,
            "object_fit": null,
            "grid_auto_columns": null,
            "margin": null,
            "display": null,
            "left": null
          }
        },
        "1e6ad73770e54b2a94c33b482a8d5b04": {
          "model_module": "@jupyter-widgets/controls",
          "model_name": "IntProgressModel",
          "state": {
            "_view_name": "ProgressView",
            "style": "IPY_MODEL_ebdfe5b2cc6d4a45aa900505c5ff8b26",
            "_dom_classes": [],
            "description": "",
            "_model_name": "IntProgressModel",
            "bar_style": "danger",
            "max": 10,
            "_view_module": "@jupyter-widgets/controls",
            "_model_module_version": "1.5.0",
            "value": 4,
            "_view_count": null,
            "_view_module_version": "1.5.0",
            "orientation": "horizontal",
            "min": 0,
            "description_tooltip": null,
            "_model_module": "@jupyter-widgets/controls",
            "layout": "IPY_MODEL_d1d2e13787214082a7b70b6290541728"
          }
        },
        "73fe43226b1a4bbbadd418891467d3a9": {
          "model_module": "@jupyter-widgets/controls",
          "model_name": "HTMLModel",
          "state": {
            "_view_name": "HTMLView",
            "style": "IPY_MODEL_4ec335064e1d4f53a413fec1e3a6c85f",
            "_dom_classes": [],
            "description": "",
            "_model_name": "HTMLModel",
            "placeholder": "​",
            "_view_module": "@jupyter-widgets/controls",
            "_model_module_version": "1.5.0",
            "value": " 40% 4/10 [01:29&lt;02:14, 22.42s/it]",
            "_view_count": null,
            "_view_module_version": "1.5.0",
            "description_tooltip": null,
            "_model_module": "@jupyter-widgets/controls",
            "layout": "IPY_MODEL_5ea0bc4a5de444968a34a529ddb239ab"
          }
        },
        "ebdfe5b2cc6d4a45aa900505c5ff8b26": {
          "model_module": "@jupyter-widgets/controls",
          "model_name": "ProgressStyleModel",
          "state": {
            "_view_name": "StyleView",
            "_model_name": "ProgressStyleModel",
            "description_width": "",
            "_view_module": "@jupyter-widgets/base",
            "_model_module_version": "1.5.0",
            "_view_count": null,
            "_view_module_version": "1.2.0",
            "bar_color": null,
            "_model_module": "@jupyter-widgets/controls"
          }
        },
        "d1d2e13787214082a7b70b6290541728": {
          "model_module": "@jupyter-widgets/base",
          "model_name": "LayoutModel",
          "state": {
            "_view_name": "LayoutView",
            "grid_template_rows": null,
            "right": null,
            "justify_content": null,
            "_view_module": "@jupyter-widgets/base",
            "overflow": null,
            "_model_module_version": "1.2.0",
            "_view_count": null,
            "flex_flow": null,
            "width": null,
            "min_width": null,
            "border": null,
            "align_items": null,
            "bottom": null,
            "_model_module": "@jupyter-widgets/base",
            "top": null,
            "grid_column": null,
            "overflow_y": null,
            "overflow_x": null,
            "grid_auto_flow": null,
            "grid_area": null,
            "grid_template_columns": null,
            "flex": null,
            "_model_name": "LayoutModel",
            "justify_items": null,
            "grid_row": null,
            "max_height": null,
            "align_content": null,
            "visibility": null,
            "align_self": null,
            "height": null,
            "min_height": null,
            "padding": null,
            "grid_auto_rows": null,
            "grid_gap": null,
            "max_width": null,
            "order": null,
            "_view_module_version": "1.2.0",
            "grid_template_areas": null,
            "object_position": null,
            "object_fit": null,
            "grid_auto_columns": null,
            "margin": null,
            "display": null,
            "left": null
          }
        },
        "4ec335064e1d4f53a413fec1e3a6c85f": {
          "model_module": "@jupyter-widgets/controls",
          "model_name": "DescriptionStyleModel",
          "state": {
            "_view_name": "StyleView",
            "_model_name": "DescriptionStyleModel",
            "description_width": "",
            "_view_module": "@jupyter-widgets/base",
            "_model_module_version": "1.5.0",
            "_view_count": null,
            "_view_module_version": "1.2.0",
            "_model_module": "@jupyter-widgets/controls"
          }
        },
        "5ea0bc4a5de444968a34a529ddb239ab": {
          "model_module": "@jupyter-widgets/base",
          "model_name": "LayoutModel",
          "state": {
            "_view_name": "LayoutView",
            "grid_template_rows": null,
            "right": null,
            "justify_content": null,
            "_view_module": "@jupyter-widgets/base",
            "overflow": null,
            "_model_module_version": "1.2.0",
            "_view_count": null,
            "flex_flow": null,
            "width": null,
            "min_width": null,
            "border": null,
            "align_items": null,
            "bottom": null,
            "_model_module": "@jupyter-widgets/base",
            "top": null,
            "grid_column": null,
            "overflow_y": null,
            "overflow_x": null,
            "grid_auto_flow": null,
            "grid_area": null,
            "grid_template_columns": null,
            "flex": null,
            "_model_name": "LayoutModel",
            "justify_items": null,
            "grid_row": null,
            "max_height": null,
            "align_content": null,
            "visibility": null,
            "align_self": null,
            "height": null,
            "min_height": null,
            "padding": null,
            "grid_auto_rows": null,
            "grid_gap": null,
            "max_width": null,
            "order": null,
            "_view_module_version": "1.2.0",
            "grid_template_areas": null,
            "object_position": null,
            "object_fit": null,
            "grid_auto_columns": null,
            "margin": null,
            "display": null,
            "left": null
          }
        }
      }
    }
  },
  "cells": [
    {
      "cell_type": "markdown",
      "metadata": {
        "id": "yBnmbg-jdztQ",
        "colab_type": "text"
      },
      "source": [
        "# Spam Classification with LSTM\n",
        "\n",
        "The deadline for this assignment is **1:30 pm Feb 18, 2020**.   \n",
        "You should submit a `.ipynb` file with your solutions to NYU Classes.\n",
        "\n",
        "---\n",
        "\n",
        "In this homework, we will reuse the spam prediction dataset used in HW1-Part1.\n",
        "We will use a word-level BiLSTM sentence encoder to encode the sentence and a neural network classifier.\n",
        "\n",
        "For reference, you may read [this paper](https://arxiv.org/abs/1705.02364).\n",
        "\n"
      ]
    },
    {
      "cell_type": "markdown",
      "metadata": {
        "id": "TKJv-b6RewJn",
        "colab_type": "text"
      },
      "source": [
        "# Data Loading\n",
        "First, reuse the code from HW1-Part1 to download and read the data."
      ]
    },
    {
      "cell_type": "code",
      "metadata": {
        "id": "QoiahW1_fZ6p",
        "colab_type": "code",
        "outputId": "1ea779f9-587e-47c3-8b05-6e32ad9a44cb",
        "colab": {
          "base_uri": "https://localhost:8080/",
          "height": 332
        }
      },
      "source": [
        "!wget 'https://docs.google.com/uc?export=download&id=1OVRo37agn02mc6yp5p6-wtJ8Hyb-YMXR' -O spam.csv"
      ],
      "execution_count": 1,
      "outputs": [
        {
          "output_type": "stream",
          "text": [
            "--2020-02-23 09:08:51--  https://docs.google.com/uc?export=download&id=1OVRo37agn02mc6yp5p6-wtJ8Hyb-YMXR\n",
            "Resolving docs.google.com (docs.google.com)... 74.125.195.138, 74.125.195.100, 74.125.195.102, ...\n",
            "Connecting to docs.google.com (docs.google.com)|74.125.195.138|:443... connected.\n",
            "HTTP request sent, awaiting response... 302 Moved Temporarily\n",
            "Location: https://doc-14-04-docs.googleusercontent.com/docs/securesc/ha0ro937gcuc7l7deffksulhg5h7mbp1/6q2aj80c36jthf0n26or8hdlatakrsvg/1582448400000/08752484438609855375/*/1OVRo37agn02mc6yp5p6-wtJ8Hyb-YMXR?e=download [following]\n",
            "Warning: wildcards not supported in HTTP.\n",
            "--2020-02-23 09:08:51--  https://doc-14-04-docs.googleusercontent.com/docs/securesc/ha0ro937gcuc7l7deffksulhg5h7mbp1/6q2aj80c36jthf0n26or8hdlatakrsvg/1582448400000/08752484438609855375/*/1OVRo37agn02mc6yp5p6-wtJ8Hyb-YMXR?e=download\n",
            "Resolving doc-14-04-docs.googleusercontent.com (doc-14-04-docs.googleusercontent.com)... 74.125.197.132, 2607:f8b0:400e:c03::84\n",
            "Connecting to doc-14-04-docs.googleusercontent.com (doc-14-04-docs.googleusercontent.com)|74.125.197.132|:443... connected.\n",
            "HTTP request sent, awaiting response... 200 OK\n",
            "Length: 503663 (492K) [text/csv]\n",
            "Saving to: ‘spam.csv’\n",
            "\n",
            "spam.csv            100%[===================>] 491.86K  --.-KB/s    in 0.004s  \n",
            "\n",
            "2020-02-23 09:08:51 (129 MB/s) - ‘spam.csv’ saved [503663/503663]\n",
            "\n"
          ],
          "name": "stdout"
        }
      ]
    },
    {
      "cell_type": "code",
      "metadata": {
        "id": "I52OxyBgfi_j",
        "colab_type": "code",
        "outputId": "1ce2d267-f8a5-413f-cd27-262cffa327d0",
        "colab": {
          "base_uri": "https://localhost:8080/",
          "height": 206
        }
      },
      "source": [
        "import pandas as pd\n",
        "import numpy as np\n",
        "\n",
        "df = pd.read_csv(\"spam.csv\", usecols=[\"v1\", \"v2\"], encoding='latin-1')\n",
        "# 1 - spam, 0 - ham\n",
        "df.v1 = (df.v1 == \"spam\").astype(\"int\")\n",
        "df.head()"
      ],
      "execution_count": 2,
      "outputs": [
        {
          "output_type": "execute_result",
          "data": {
            "text/html": [
              "<div>\n",
              "<style scoped>\n",
              "    .dataframe tbody tr th:only-of-type {\n",
              "        vertical-align: middle;\n",
              "    }\n",
              "\n",
              "    .dataframe tbody tr th {\n",
              "        vertical-align: top;\n",
              "    }\n",
              "\n",
              "    .dataframe thead th {\n",
              "        text-align: right;\n",
              "    }\n",
              "</style>\n",
              "<table border=\"1\" class=\"dataframe\">\n",
              "  <thead>\n",
              "    <tr style=\"text-align: right;\">\n",
              "      <th></th>\n",
              "      <th>v1</th>\n",
              "      <th>v2</th>\n",
              "    </tr>\n",
              "  </thead>\n",
              "  <tbody>\n",
              "    <tr>\n",
              "      <th>0</th>\n",
              "      <td>0</td>\n",
              "      <td>Go until jurong point, crazy.. Available only ...</td>\n",
              "    </tr>\n",
              "    <tr>\n",
              "      <th>1</th>\n",
              "      <td>0</td>\n",
              "      <td>Ok lar... Joking wif u oni...</td>\n",
              "    </tr>\n",
              "    <tr>\n",
              "      <th>2</th>\n",
              "      <td>1</td>\n",
              "      <td>Free entry in 2 a wkly comp to win FA Cup fina...</td>\n",
              "    </tr>\n",
              "    <tr>\n",
              "      <th>3</th>\n",
              "      <td>0</td>\n",
              "      <td>U dun say so early hor... U c already then say...</td>\n",
              "    </tr>\n",
              "    <tr>\n",
              "      <th>4</th>\n",
              "      <td>0</td>\n",
              "      <td>Nah I don't think he goes to usf, he lives aro...</td>\n",
              "    </tr>\n",
              "  </tbody>\n",
              "</table>\n",
              "</div>"
            ],
            "text/plain": [
              "   v1                                                 v2\n",
              "0   0  Go until jurong point, crazy.. Available only ...\n",
              "1   0                      Ok lar... Joking wif u oni...\n",
              "2   1  Free entry in 2 a wkly comp to win FA Cup fina...\n",
              "3   0  U dun say so early hor... U c already then say...\n",
              "4   0  Nah I don't think he goes to usf, he lives aro..."
            ]
          },
          "metadata": {
            "tags": []
          },
          "execution_count": 2
        }
      ]
    },
    {
      "cell_type": "markdown",
      "metadata": {
        "id": "pCihb3oogn27",
        "colab_type": "text"
      },
      "source": [
        "We will split the data into train, val, and test sets.  \n",
        "`train_texts`, `val_texts`, and `test_texts` should contain a list of text examples in the dataset.\n"
      ]
    },
    {
      "cell_type": "code",
      "metadata": {
        "id": "0H78E3FLgEA2",
        "colab_type": "code",
        "outputId": "5dac2ceb-b30f-4d11-b8fc-e063414fe755",
        "colab": {
          "base_uri": "https://localhost:8080/",
          "height": 104
        }
      },
      "source": [
        "# 0.15 for val, 0.15 for test, 0.7 for train\n",
        "val_size = int(df.shape[0] * 0.15)\n",
        "test_size = int(df.shape[0] * 0.15)\n",
        "\n",
        "# Shuffle the data\n",
        "df = df.sample(frac=1)\n",
        "# Split df to test/val/train\n",
        "test_df = df[:test_size]\n",
        "val_df = df[test_size:test_size+val_size]\n",
        "train_df = df[test_size+val_size:]\n",
        "\n",
        "\n",
        "train_texts, train_labels = list(train_df.v2), list(train_df.v1)\n",
        "val_texts, val_labels     = list(val_df.v2), list(val_df.v1)\n",
        "test_texts, test_labels   = list(test_df.v2), list(test_df.v1)\n",
        "\n",
        "\n",
        "# Check that idces do not overlap\n",
        "assert set(train_df.index).intersection(set(val_df.index)) == set({})\n",
        "assert set(test_df.index).intersection(set(train_df.index)) == set({})\n",
        "assert set(val_df.index).intersection(set(test_df.index)) == set({})\n",
        "# Check that all idces are present\n",
        "assert df.shape[0] == len(train_labels) + len(val_labels) + len(test_labels)\n",
        "\n",
        "# Sizes\n",
        "print(\n",
        "    f\"Size of initial data: {df.shape[0]}\\n\"\n",
        "    f\"Train size: {len(train_labels)}\\n\"\n",
        "    f\"Val size: {len(val_labels)}\\n\"\n",
        "    f\"Test size: {len(test_labels)}\\n\"\n",
        ")"
      ],
      "execution_count": 3,
      "outputs": [
        {
          "output_type": "stream",
          "text": [
            "Size of initial data: 5572\n",
            "Train size: 3902\n",
            "Val size: 835\n",
            "Test size: 835\n",
            "\n"
          ],
          "name": "stdout"
        }
      ]
    },
    {
      "cell_type": "code",
      "metadata": {
        "id": "FX8D130ngVxu",
        "colab_type": "code",
        "outputId": "bddc7d22-e81e-479c-db0d-7110c745746d",
        "colab": {
          "base_uri": "https://localhost:8080/",
          "height": 191
        }
      },
      "source": [
        "train_texts[:10] # Just checking the examples in train_text"
      ],
      "execution_count": 4,
      "outputs": [
        {
          "output_type": "execute_result",
          "data": {
            "text/plain": [
              "['Were trying to find a Chinese food place around here',\n",
              " \"Well keep in mind I've only got enough gas for one more round trip barring a sudden influx of cash\",\n",
              " 'But you dint in touch with me.',\n",
              " \"Hey i will be really pretty late... You want to go for the lesson first? I will join you. I'm only reaching tp mrt\",\n",
              " 'K. I will sent it again',\n",
              " 'We took hooch for a walk toaday and i fell over! Splat! Grazed my knees and everything! Should have stayed at home! See you tomorrow! ',\n",
              " \"I don't know but I'm raping dudes at poker\",\n",
              " 'Yes! I am a one woman man! Please tell me your likes and dislikes in bed...',\n",
              " 'Come aftr  &lt;DECIMAL&gt; ..now i m cleaning the house',\n",
              " 'URGENT! Your Mobile number has been awarded a <UKP>2000 prize GUARANTEED. Call 09061790125 from landline. Claim 3030. Valid 12hrs only 150ppm']"
            ]
          },
          "metadata": {
            "tags": []
          },
          "execution_count": 4
        }
      ]
    },
    {
      "cell_type": "markdown",
      "metadata": {
        "id": "4Sm_iuR_hJp2",
        "colab_type": "text"
      },
      "source": [
        "# Download and Load GloVe Embeddings\n",
        "We will use GloVe embeddings as our word representations.  \n",
        "Let's download and load glove. We will reuse the code from Lab 2 for downloading and loading GloVe\n"
      ]
    },
    {
      "cell_type": "code",
      "metadata": {
        "id": "HRCcCtcSjEPR",
        "colab_type": "code",
        "outputId": "6f57e85a-e333-444f-a161-3bf1f389a26e",
        "colab": {
          "base_uri": "https://localhost:8080/",
          "height": 923
        }
      },
      "source": [
        "#@title Download GloVe word embeddings\n",
        "\n",
        "# === Download GloVe word embeddings\n",
        "# !wget http://nlp.stanford.edu/data/glove.6B.zip\n",
        "\n",
        "# === Unzip word embeddings and use only the top 50000 word embeddings for speed\n",
        "# !unzip glove.6B.zip\n",
        "# !head -n 50000 glove.6B.300d.txt > glove.6B.300d__50k.txt\n",
        "\n",
        "# === Download Preprocessed version\n",
        "!wget https://docs.google.com/uc?id=1KMJTagaVD9hFHXFTPtNk0u2JjvNlyCAu -O glove_split.aa\n",
        "!wget https://docs.google.com/uc?id=1LF2yD2jToXriyD-lsYA5hj03f7J3ZKaY -O glove_split.ab\n",
        "!wget https://docs.google.com/uc?id=1N1xnxkRyM5Gar7sv4d41alyTL92Iip3f -O glove_split.ac\n",
        "!cat glove_split.?? > 'glove.6B.300d__50k.txt'"
      ],
      "execution_count": 5,
      "outputs": [
        {
          "output_type": "stream",
          "text": [
            "--2020-02-23 09:09:04--  https://docs.google.com/uc?id=1KMJTagaVD9hFHXFTPtNk0u2JjvNlyCAu\n",
            "Resolving docs.google.com (docs.google.com)... 74.125.195.138, 74.125.195.139, 74.125.195.100, ...\n",
            "Connecting to docs.google.com (docs.google.com)|74.125.195.138|:443... connected.\n",
            "HTTP request sent, awaiting response... 302 Moved Temporarily\n",
            "Location: https://doc-0k-0g-docs.googleusercontent.com/docs/securesc/ha0ro937gcuc7l7deffksulhg5h7mbp1/8mvs4tvvvglmapecg04ei5p2frie09ll/1582448400000/14514704803973256873/*/1KMJTagaVD9hFHXFTPtNk0u2JjvNlyCAu [following]\n",
            "Warning: wildcards not supported in HTTP.\n",
            "--2020-02-23 09:09:05--  https://doc-0k-0g-docs.googleusercontent.com/docs/securesc/ha0ro937gcuc7l7deffksulhg5h7mbp1/8mvs4tvvvglmapecg04ei5p2frie09ll/1582448400000/14514704803973256873/*/1KMJTagaVD9hFHXFTPtNk0u2JjvNlyCAu\n",
            "Resolving doc-0k-0g-docs.googleusercontent.com (doc-0k-0g-docs.googleusercontent.com)... 74.125.197.132, 2607:f8b0:400e:c03::84\n",
            "Connecting to doc-0k-0g-docs.googleusercontent.com (doc-0k-0g-docs.googleusercontent.com)|74.125.197.132|:443... connected.\n",
            "HTTP request sent, awaiting response... 200 OK\n",
            "Length: unspecified [audio/audible]\n",
            "Saving to: ‘glove_split.aa’\n",
            "\n",
            "glove_split.aa          [  <=>               ]  50.00M   113MB/s    in 0.4s    \n",
            "\n",
            "2020-02-23 09:09:05 (113 MB/s) - ‘glove_split.aa’ saved [52428800]\n",
            "\n",
            "--2020-02-23 09:09:06--  https://docs.google.com/uc?id=1LF2yD2jToXriyD-lsYA5hj03f7J3ZKaY\n",
            "Resolving docs.google.com (docs.google.com)... 74.125.20.138, 74.125.20.101, 74.125.20.139, ...\n",
            "Connecting to docs.google.com (docs.google.com)|74.125.20.138|:443... connected.\n",
            "HTTP request sent, awaiting response... 302 Moved Temporarily\n",
            "Location: https://doc-08-0g-docs.googleusercontent.com/docs/securesc/ha0ro937gcuc7l7deffksulhg5h7mbp1/3j2q24otr5jbj597rckedl322i83m14e/1582448400000/14514704803973256873/*/1LF2yD2jToXriyD-lsYA5hj03f7J3ZKaY [following]\n",
            "Warning: wildcards not supported in HTTP.\n",
            "--2020-02-23 09:09:08--  https://doc-08-0g-docs.googleusercontent.com/docs/securesc/ha0ro937gcuc7l7deffksulhg5h7mbp1/3j2q24otr5jbj597rckedl322i83m14e/1582448400000/14514704803973256873/*/1LF2yD2jToXriyD-lsYA5hj03f7J3ZKaY\n",
            "Resolving doc-08-0g-docs.googleusercontent.com (doc-08-0g-docs.googleusercontent.com)... 74.125.197.132, 2607:f8b0:400e:c03::84\n",
            "Connecting to doc-08-0g-docs.googleusercontent.com (doc-08-0g-docs.googleusercontent.com)|74.125.197.132|:443... connected.\n",
            "HTTP request sent, awaiting response... 200 OK\n",
            "Length: unspecified [application/octet-stream]\n",
            "Saving to: ‘glove_split.ab’\n",
            "\n",
            "glove_split.ab          [  <=>               ]  50.00M   136MB/s    in 0.4s    \n",
            "\n",
            "2020-02-23 09:09:09 (136 MB/s) - ‘glove_split.ab’ saved [52428800]\n",
            "\n",
            "--2020-02-23 09:09:10--  https://docs.google.com/uc?id=1N1xnxkRyM5Gar7sv4d41alyTL92Iip3f\n",
            "Resolving docs.google.com (docs.google.com)... 74.125.142.101, 74.125.142.138, 74.125.142.139, ...\n",
            "Connecting to docs.google.com (docs.google.com)|74.125.142.101|:443... connected.\n",
            "HTTP request sent, awaiting response... 302 Moved Temporarily\n",
            "Location: https://doc-04-0g-docs.googleusercontent.com/docs/securesc/ha0ro937gcuc7l7deffksulhg5h7mbp1/lbmpkp3e3be4eh0117ett3una4ied668/1582448400000/14514704803973256873/*/1N1xnxkRyM5Gar7sv4d41alyTL92Iip3f [following]\n",
            "Warning: wildcards not supported in HTTP.\n",
            "--2020-02-23 09:09:10--  https://doc-04-0g-docs.googleusercontent.com/docs/securesc/ha0ro937gcuc7l7deffksulhg5h7mbp1/lbmpkp3e3be4eh0117ett3una4ied668/1582448400000/14514704803973256873/*/1N1xnxkRyM5Gar7sv4d41alyTL92Iip3f\n",
            "Resolving doc-04-0g-docs.googleusercontent.com (doc-04-0g-docs.googleusercontent.com)... 74.125.197.132, 2607:f8b0:400e:c03::84\n",
            "Connecting to doc-04-0g-docs.googleusercontent.com (doc-04-0g-docs.googleusercontent.com)|74.125.197.132|:443... connected.\n",
            "HTTP request sent, awaiting response... 200 OK\n",
            "Length: unspecified [application/octet-stream]\n",
            "Saving to: ‘glove_split.ac’\n",
            "\n",
            "glove_split.ac          [ <=>                ]  23.49M   145MB/s    in 0.2s    \n",
            "\n",
            "2020-02-23 09:09:11 (145 MB/s) - ‘glove_split.ac’ saved [24629432]\n",
            "\n"
          ],
          "name": "stdout"
        }
      ]
    },
    {
      "cell_type": "markdown",
      "metadata": {
        "id": "4AfN4rYTOmCD",
        "colab_type": "text"
      },
      "source": [
        "## Load GloVe Embeddings\n",
        "\n",
        "We are going to reuse the code from Lab 2 here. In addition, we will add a padding token and an unknown token to our vocabulary."
      ]
    },
    {
      "cell_type": "code",
      "metadata": {
        "id": "TSF0C4jHjnSz",
        "colab_type": "code",
        "colab": {}
      },
      "source": [
        "def load_glove(glove_path, embedding_dim):\n",
        "    with open(glove_path) as f:\n",
        "        token_ls = [PAD_TOKEN, UNK_TOKEN]\n",
        "        embedding_ls = [np.zeros(embedding_dim), np.random.rand(embedding_dim)]\n",
        "        for line in f:\n",
        "            token, raw_embedding = line.split(maxsplit=1)\n",
        "            token_ls.append(token)\n",
        "            embedding = np.array([float(x) for x in raw_embedding.split()])\n",
        "            embedding_ls.append(embedding)\n",
        "        embeddings = np.array(embedding_ls)\n",
        "    return token_ls, embeddings\n",
        "\n",
        "PAD_TOKEN = '<PAD>'\n",
        "UNK_TOKEN = '<UNK>'\n",
        "EMBEDDING_DIM=300 # dimension of Glove embeddings\n",
        "glove_path = \"glove.6B.300d__50k.txt\"\n",
        "vocab, embeddings = load_glove(glove_path, EMBEDDING_DIM)"
      ],
      "execution_count": 0,
      "outputs": []
    },
    {
      "cell_type": "markdown",
      "metadata": {
        "id": "e_VZkGbgO4yA",
        "colab_type": "text"
      },
      "source": [
        "## Import packages"
      ]
    },
    {
      "cell_type": "code",
      "metadata": {
        "id": "FpbnKsQeptXw",
        "colab_type": "code",
        "outputId": "cc1825dd-c5c0-4ab7-d74b-acb96ca67e20",
        "colab": {
          "base_uri": "https://localhost:8080/",
          "height": 121
        }
      },
      "source": [
        "!pip install sacremoses\n",
        "\n",
        "import torch\n",
        "import torch.nn as nn\n",
        "import torch.nn.functional as F\n",
        "import torch.optim as optim\n",
        "import numpy as np\n",
        "import os\n",
        "import pandas as pd\n",
        "import sacremoses\n",
        "from torch.utils.data import dataloader, Dataset\n",
        "import tqdm"
      ],
      "execution_count": 7,
      "outputs": [
        {
          "output_type": "stream",
          "text": [
            "Requirement already satisfied: sacremoses in /usr/local/lib/python3.6/dist-packages (0.0.38)\n",
            "Requirement already satisfied: joblib in /usr/local/lib/python3.6/dist-packages (from sacremoses) (0.14.1)\n",
            "Requirement already satisfied: six in /usr/local/lib/python3.6/dist-packages (from sacremoses) (1.12.0)\n",
            "Requirement already satisfied: tqdm in /usr/local/lib/python3.6/dist-packages (from sacremoses) (4.28.1)\n",
            "Requirement already satisfied: click in /usr/local/lib/python3.6/dist-packages (from sacremoses) (7.0)\n",
            "Requirement already satisfied: regex in /usr/local/lib/python3.6/dist-packages (from sacremoses) (2019.12.20)\n"
          ],
          "name": "stdout"
        }
      ]
    },
    {
      "cell_type": "markdown",
      "metadata": {
        "id": "_Wwy3gSvO87p",
        "colab_type": "text"
      },
      "source": [
        "# Featurize text data.\n",
        "We will reuse the `featurize` function from Lab 2 to convert text data into features."
      ]
    },
    {
      "cell_type": "code",
      "metadata": {
        "id": "j1aLbeOBmRyR",
        "colab_type": "code",
        "outputId": "8abb7a15-53e3-4cc5-9284-a01b32a91975",
        "colab": {
          "base_uri": "https://localhost:8080/",
          "height": 165,
          "referenced_widgets": [
            "1c9dad891f4b4ccf9e7373b5602fa6c0",
            "e4e5285a24a84ab49581626e1e403e34",
            "bbc61fd8810945ac85f3d25b922e4a54",
            "ca00bfe4e5d2451faa90072d5e092980",
            "6305dc1bfde54c92ba0cdcc7195fb04e",
            "f25f2dc16df3429d8be65dbea1621309",
            "ea3b568ef8d44b4aa9ec104165adbc63",
            "ea61b6ea246f4476a3b3bb7b7228315e",
            "19123c7402d54eedbbda161eb448f5f0",
            "4f651bf8dc154225966d2b7654b45fdf",
            "e52575ddcd514d09ab190080f257e92c",
            "d7ae6fe76afe43469e9e11c205b184aa",
            "819201289f84446382fa24c394d8184e",
            "c946c780066f48308f5a7e9cc55a2d74",
            "da0b905070fb4afe9d937b659180b417",
            "a43a1f81b49d4a0ebc1d94b3a692ec28",
            "2e56bb6f0f0f447199f1f4d0c340eb69",
            "ff369df4c13f4daba631bf0ec88e0f14",
            "13217587ea624538be78b5304aebce89",
            "53b7ea73f160473f9e17e1a1563db83c",
            "c0cd0d7d1ca94edf94aec35cd80be7a1",
            "b5ae795b8045432fb72b95549f8ec8d1",
            "e8bd11b9306340f9953576befd0dfb68",
            "c40bedd9e9ed45ffb49f233d90d18fc4"
          ]
        }
      },
      "source": [
        "def featurize(data, labels, tokenizer, vocab, max_seq_length=128):\n",
        "    vocab_to_idx = {word: i for i, word in enumerate(vocab)}\n",
        "    text_data = []\n",
        "    label_data = []\n",
        "    for ex in tqdm.tqdm_notebook(data):\n",
        "        tokenized = tokenizer.tokenize(ex.lower())\n",
        "        ids = [vocab_to_idx.get(token, 1) for token in tokenized]\n",
        "        text_data.append(ids)\n",
        "    return text_data, labels\n",
        "tokenizer = sacremoses.MosesTokenizer()\n",
        "train_data_indices, train_labels = featurize(train_texts, train_labels, tokenizer, vocab)\n",
        "val_data_indices, val_labels = featurize(val_texts, val_labels, tokenizer, vocab)\n",
        "test_data_indices, test_labels = featurize(test_texts, test_labels, tokenizer, vocab)"
      ],
      "execution_count": 8,
      "outputs": [
        {
          "output_type": "display_data",
          "data": {
            "application/vnd.jupyter.widget-view+json": {
              "model_id": "1c9dad891f4b4ccf9e7373b5602fa6c0",
              "version_minor": 0,
              "version_major": 2
            },
            "text/plain": [
              "HBox(children=(IntProgress(value=0, max=3902), HTML(value='')))"
            ]
          },
          "metadata": {
            "tags": []
          }
        },
        {
          "output_type": "stream",
          "text": [
            "\n"
          ],
          "name": "stdout"
        },
        {
          "output_type": "display_data",
          "data": {
            "application/vnd.jupyter.widget-view+json": {
              "model_id": "19123c7402d54eedbbda161eb448f5f0",
              "version_minor": 0,
              "version_major": 2
            },
            "text/plain": [
              "HBox(children=(IntProgress(value=0, max=835), HTML(value='')))"
            ]
          },
          "metadata": {
            "tags": []
          }
        },
        {
          "output_type": "stream",
          "text": [
            "\n"
          ],
          "name": "stdout"
        },
        {
          "output_type": "display_data",
          "data": {
            "application/vnd.jupyter.widget-view+json": {
              "model_id": "2e56bb6f0f0f447199f1f4d0c340eb69",
              "version_minor": 0,
              "version_major": 2
            },
            "text/plain": [
              "HBox(children=(IntProgress(value=0, max=835), HTML(value='')))"
            ]
          },
          "metadata": {
            "tags": []
          }
        },
        {
          "output_type": "stream",
          "text": [
            "\n"
          ],
          "name": "stdout"
        }
      ]
    },
    {
      "cell_type": "code",
      "metadata": {
        "id": "OEF48Bddt5kA",
        "colab_type": "code",
        "outputId": "ff6e42d2-d551-4bfb-ea83-f828f5b39986",
        "colab": {
          "base_uri": "https://localhost:8080/",
          "height": 141
        }
      },
      "source": [
        "print(\"\\nTrain text first 5 examples:\\n\", train_data_indices[:5])\n",
        "print(\"\\nTrain labels first 5 examples:\\n\", train_labels[:5])"
      ],
      "execution_count": 9,
      "outputs": [
        {
          "output_type": "stream",
          "text": [
            "\n",
            "Train text first 5 examples:\n",
            " [[37, 597, 6, 598, 9, 329, 567, 243, 206, 189], [145, 580, 8, 1678, 43, 1, 93, 407, 577, 853, 12, 50, 58, 471, 1307, 10666, 9, 5113, 10313, 5, 1486], [36, 83, 1, 8, 3257, 19, 287, 4], [7944, 43, 45, 32, 590, 1924, 290, 436, 83, 305, 6, 244, 12, 2, 6559, 60, 190, 43, 45, 1431, 1, 43, 1, 93, 2405, 43395, 35595], [6218, 43, 45, 690, 22, 380]]\n",
            "\n",
            "Train labels first 5 examples:\n",
            " [0, 0, 0, 0, 0]\n"
          ],
          "name": "stdout"
        }
      ]
    },
    {
      "cell_type": "markdown",
      "metadata": {
        "id": "_dlUYNvgPUXs",
        "colab_type": "text"
      },
      "source": [
        "# Create DataLoaders\n",
        " Now, let's create pytorch DataLoaders for our train, val, and test data.\n",
        " You can reference Lab 2.\n",
        "\n",
        " `SpamDataset` class is similar to `TextDataset` from Lab 2. But it has an additional parameter called `self.max_sent_length` and a `spam_collate_func`.  \n",
        "\n",
        "`spam_collate_func` is supposed to dynamically pad or trim the sentences in the batch based on `self.max_sent_length` and the length of longest sequence in the batch.\n",
        "- If `self.max_sent_length` is greater than the length of longest sequence in the batch, use `self.max_sent_length`. Otherwise, use the length of longest sequence in the batch.\n",
        "- We do this because sometimes, our input sentences in the batch may be much shorter than `self.max_sent_length`.  \n",
        "\n"
      ]
    },
    {
      "cell_type": "code",
      "metadata": {
        "id": "-uJDfnVMxBsz",
        "colab_type": "code",
        "colab": {}
      },
      "source": [
        "import numpy as np\n",
        "import torch\n",
        "from torch.utils.data import Dataset\n",
        "\n",
        "class SpamDataset(Dataset):\n",
        "    \"\"\"\n",
        "    Class that represents a train/validation/test dataset that's readable for PyTorch\n",
        "    Note that this class inherits torch.utils.data.Dataset\n",
        "    \"\"\"\n",
        "    \n",
        "    def __init__(self, data_list, target_list, max_sent_length=128):\n",
        "        \"\"\"\n",
        "        @param data_list: list of data tokens \n",
        "        @param target_list: list of data targets \n",
        "\n",
        "        \"\"\"\n",
        "        self.data_list = data_list\n",
        "        self.target_list = target_list\n",
        "        self.max_sent_length = max_sent_length\n",
        "        assert (len(self.data_list) == len(self.target_list))\n",
        "\n",
        "    def __len__(self):\n",
        "        return len(self.data_list)\n",
        "        \n",
        "    def __getitem__(self, key, max_sent_length=None):\n",
        "        \"\"\"\n",
        "        Triggered when you call dataset[i]\n",
        "        \"\"\"\n",
        "        if max_sent_length is None:\n",
        "            max_sent_length = self.max_sent_length\n",
        "        token_idx = self.data_list[key][:max_sent_length]\n",
        "        label = self.target_list[key]\n",
        "        return [token_idx, label]\n",
        "\n",
        "    def spam_collate_func(self,batch):\n",
        "        \"\"\"\n",
        "        Customized function for DataLoader that dynamically pads the batch so that all \n",
        "        data have the same length\n",
        "        \"\"\" \n",
        "        data_list = [] # store padded sequences\n",
        "        label_list = []\n",
        "        max_batch_seq_len = None # the length of longest sequence in batch\n",
        "                                 # if it is less than self.max_sent_length.\n",
        "                                 # else max_batch_seq_len = self.max_sent_length\n",
        "\n",
        "        \"\"\"\n",
        "          # Pad the sequences in your data \n",
        "          # if their length is less than max_batch_seq_len\n",
        "          # or trim the sequences that are longer than self.max_sent_length\n",
        "          # return padded data_list and label_list\n",
        "          1. TODO: Your code here \n",
        "        \"\"\"\n",
        "        #finding length of longest sequence in batch\n",
        "        max_batch = 0\n",
        "        for i in range(len(batch)):\n",
        "          if len(batch[i][0]) > max_batch:\n",
        "            max_batch = len(batch[i][0])\n",
        "        #if it is less than self.max_sent_length\n",
        "        #else max_batch_seq_len = self.max_sent_lengt\n",
        "        if max_batch < self.max_sent_length:\n",
        "          max_batch_seq_len = max_batch \n",
        "        else:\n",
        "          max_batch_seq_len = self.max_sent_length\n",
        "        # iterate through batch to either pad or trim sequence\n",
        "        for i in range(len(batch)):\n",
        "          #sets sequence and label\n",
        "          sequence = batch[i][0]\n",
        "          label = batch[i][1]\n",
        "          #trim the sequence\n",
        "          if len(sequence) > max_sent_length:\n",
        "            sequence = sequence[:max_sent_length]\n",
        "          else:\n",
        "            #pad\n",
        "            for _ in range(max_batch_seq_len - len(sequence)):\n",
        "              sequence.append(0)\n",
        "          data_list.append(sequence)\n",
        "          label_list.append(label)\n",
        "        data_list = torch.tensor(data_list)\n",
        "        label_list = torch.tensor(label_list)\n",
        "        return [data_list, label_list]\n",
        "BATCH_SIZE = 64\n",
        "max_sent_length=128\n",
        "train_dataset = SpamDataset(train_data_indices, train_labels, max_sent_length)\n",
        "train_loader = torch.utils.data.DataLoader(dataset=train_dataset, \n",
        "                                           batch_size=BATCH_SIZE,\n",
        "                                           collate_fn=train_dataset.spam_collate_func,\n",
        "                                           shuffle=True)\n",
        "\n",
        "val_dataset = SpamDataset(val_data_indices, val_labels, train_dataset.max_sent_length)\n",
        "val_loader = torch.utils.data.DataLoader(dataset=val_dataset, \n",
        "                                           batch_size=BATCH_SIZE,\n",
        "                                           collate_fn=train_dataset.spam_collate_func,\n",
        "                                           shuffle=False)\n",
        "\n",
        "test_dataset = SpamDataset(test_data_indices, test_labels, train_dataset.max_sent_length)\n",
        "test_loader = torch.utils.data.DataLoader(dataset=test_dataset, \n",
        "                                           batch_size=BATCH_SIZE,\n",
        "                                           collate_fn=train_dataset.spam_collate_func,\n",
        "                                           shuffle=False)\n",
        "\n"
      ],
      "execution_count": 0,
      "outputs": []
    },
    {
      "cell_type": "markdown",
      "metadata": {
        "id": "XWgRGaCWf4Zz",
        "colab_type": "text"
      },
      "source": [
        "Let's try to print out an example batch from train_loader.\n"
      ]
    },
    {
      "cell_type": "code",
      "metadata": {
        "id": "5O8R_KhwxULI",
        "colab_type": "code",
        "outputId": "78dfc14d-1491-4a89-d0f5-119a973d7b77",
        "colab": {
          "base_uri": "https://localhost:8080/",
          "height": 208
        }
      },
      "source": [
        "data_batch, labels = next(iter(train_loader))\n",
        "print(\"data batch dimension: \", data_batch.size())\n",
        "print(\"data_batch: \", data_batch)\n",
        "print(\"labels: \", labels)"
      ],
      "execution_count": 11,
      "outputs": [
        {
          "output_type": "stream",
          "text": [
            "data batch dimension:  torch.Size([64, 75])\n",
            "data_batch:  tensor([[  104,    81,    90,  ...,     0,     0,     0],\n",
            "        [ 6334,     3,    43,  ...,     0,     0,     0],\n",
            "        [ 1445,    47,    79,  ...,     0,     0,     0],\n",
            "        ...,\n",
            "        [    1,  1678,    22,  ...,     0,     0,     0],\n",
            "        [16791, 10576,  1953,  ...,     0,     0,     0],\n",
            "        [    1,    43,   968,  ...,     0,     0,     0]])\n",
            "labels:  tensor([0, 0, 0, 0, 0, 0, 0, 0, 0, 0, 0, 0, 0, 0, 1, 0, 0, 0, 0, 1, 1, 0, 0, 0,\n",
            "        0, 1, 0, 0, 0, 0, 0, 0, 0, 0, 1, 0, 0, 0, 0, 1, 1, 0, 0, 0, 0, 0, 1, 0,\n",
            "        0, 0, 0, 0, 0, 0, 0, 0, 0, 0, 0, 0, 0, 0, 1, 0])\n"
          ],
          "name": "stdout"
        }
      ]
    },
    {
      "cell_type": "markdown",
      "metadata": {
        "id": "HpdnYbPIgNXw",
        "colab_type": "text"
      },
      "source": [
        "# Build a BiLSTM Classifier\n",
        "\n",
        "Now we are going to build a BiLSTM classifier. Check this [blog post](https://colah.github.io/posts/2015-08-Understanding-LSTMs/) and [`torch.nn.LSTM`](https://pytorch.org/docs/stable/nn.html?highlight=lstm#torch.nn.LSTM) for reference.  \n",
        "\n",
        "The hyperparameters for LSTM are already given, but I did not do hyperparameter tuning. You should get a good accuracy with these hyperparameters but you may try to tune the hyperparameters and use different hyperparameters to get better performance."
      ]
    },
    {
      "cell_type": "code",
      "metadata": {
        "id": "GOYEmADNDVIh",
        "colab_type": "code",
        "colab": {}
      },
      "source": [
        "# First import torch related libraries\n",
        "import torch\n",
        "import torch.nn as nn\n",
        "import torch.nn.functional as F\n",
        "from torch.autograd import Variable\n",
        "\n",
        "class LSTMClassifier(nn.Module):\n",
        "    \"\"\"\n",
        "    LSTMClassifier classification model\n",
        "    \"\"\"\n",
        "    def __init__(self, embeddings, hidden_size, num_layers, num_classes, bidirectional, dropout_prob=0.3):\n",
        "        super().__init__()\n",
        "        self.embedding_layer = self.load_pretrained_embeddings(embeddings)\n",
        "        self.dropout = None\n",
        "        self.lstm = None\n",
        "        self.non_linearity = None # For example, ReLU\n",
        "        self.clf = None # classifier layer\n",
        "        \"\"\"\n",
        "           define the components of your BiLSTM Classifier model\n",
        "           You may refer to Lab2 for reference\n",
        "           2. TODO: Your code here\n",
        "        \"\"\"\n",
        "        self.dropout = nn.Dropout(dropout_prob)\n",
        "        self.lstm = nn.LSTM(input_size = self.embedding_layer.embedding_dim, \n",
        "                            hidden_size = hidden_size, \n",
        "                            num_layers = num_layers,\n",
        "                            dropout = dropout_prob,\n",
        "                            bidirectional = bidirectional,\n",
        "                            batch_first=True)\n",
        "        self.non_linearity = nn.ReLU() # For example, ReLU\n",
        "        self.clf = nn.Linear(hidden_size, num_classes)\n",
        "        pass\n",
        "    \n",
        "    def load_pretrained_embeddings(self, embeddings):\n",
        "        \"\"\"\n",
        "           The code for loading embeddings from Lab 2\n",
        "           Unlike lab, we are not setting `embedding_layer.weight.requires_grad = False`\n",
        "           because we want to finetune the embeddings on our data\n",
        "        \"\"\"\n",
        "        embedding_layer = nn.Embedding(embeddings.shape[0], embeddings.shape[1], padding_idx=0)\n",
        "        embedding_layer.weight.data = torch.Tensor(embeddings).float()\n",
        "        return embedding_layer\n",
        "\n",
        "\n",
        "    def forward(self, inputs):\n",
        "        logits = None\n",
        "        \"\"\"\n",
        "           Write forward pass for LSTM\n",
        "           Example, forward:= embedding -> bilstm -> pooling (sum?mean?max?) \n",
        "                              nonlinearity -> classifier\n",
        "           Refer to: https://arxiv.org/abs/1705.02364 \n",
        "           Return logits\n",
        "           You may refer to Lab2 for embedding lookup and how to return logits\n",
        "           3. TODO: Your code here\n",
        "        \"\"\"\n",
        "        #embedding\n",
        "        embed = self.embedding_layer(inputs)\n",
        "        #bilstm\n",
        "        lstm,(h_n,c_n) = self.lstm(embed)\n",
        "        #pooling (sum?mean?max?) -> max\n",
        "          #Calculate the maximum value for each patch of the feature map\n",
        "        forward = lstm[:,:,:hidden_size]\n",
        "        backward = lstm[:,:,hidden_size:] \n",
        "        #concatenates forward and backward to be able to do vertical line detection\n",
        "        pooled = torch.stack([forward,backward])\n",
        "        #output of the max pooling layer will be a single feature map with each dimension halved\n",
        "        pooled = torch.max(pooled,dim=2).values\n",
        "        pooled = torch.max(pooled,dim=0).values\n",
        "        #nonlinearity\n",
        "        out = self.non_linearity(pooled)\n",
        "        #classifier\n",
        "        logits = self.clf(out)\n",
        "        \n",
        "        return logits"
      ],
      "execution_count": 0,
      "outputs": []
    },
    {
      "cell_type": "markdown",
      "metadata": {
        "id": "p6P7O47Lfr0a",
        "colab_type": "text"
      },
      "source": [
        "First, we will define an evaluation function that will return the accuracy of the model. We will use this to compute validation accuracy and test accuracy of the model given a dataloader."
      ]
    },
    {
      "cell_type": "code",
      "metadata": {
        "id": "dSkdBx1ULCFK",
        "colab_type": "code",
        "colab": {}
      },
      "source": [
        "def evaluate(model, dataloader, device):\n",
        "    accuracy = None\n",
        "    model.eval()\n",
        "    \"\"\"\n",
        "        4. TODO: Your code here\n",
        "        Calculate the accuracy of the model on the data in dataloader\n",
        "        You may refer to `run_inference` function from Lab2 \n",
        "    \"\"\"\n",
        "    correct = 0\n",
        "    total = 0\n",
        "    for i, (features, targets) in enumerate(dataloader):\n",
        "        features = features.to(device)\n",
        "        targets = targets.to(device)\n",
        "        logits = model(features)\n",
        "        y_pred = logits.max(1)[1]\n",
        "        total += targets.size(0)\n",
        "        correct += (y_pred == targets).float().sum()\n",
        "    accuracy = correct.float() / total\n",
        "    return accuracy.item()"
      ],
      "execution_count": 0,
      "outputs": []
    },
    {
      "cell_type": "markdown",
      "metadata": {
        "id": "JpCXZCO7iuEL",
        "colab_type": "text"
      },
      "source": [
        "# Initialize the BiLSTM classifier model, criterion and optimizer\n"
      ]
    },
    {
      "cell_type": "code",
      "metadata": {
        "id": "YaPW_CjlK0F7",
        "colab_type": "code",
        "outputId": "b611cb96-c80a-495e-b631-f9a57eaa21d4",
        "colab": {
          "base_uri": "https://localhost:8080/",
          "height": 72
        }
      },
      "source": [
        "# BiLSTM hyperparameters\n",
        "hidden_size = 32\n",
        "num_layers = 1\n",
        "num_classes = 2\n",
        "bidirectional=True\n",
        "torch.manual_seed(1234)\n",
        "\n",
        "# if cuda exists, use cuda, else run on cpu\n",
        "if torch.cuda.is_available():\n",
        "    device = torch.device(\"cuda:0\")\n",
        "else:\n",
        "    device=torch.device('cpu')\n",
        "\n",
        "model = LSTMClassifier(embeddings, hidden_size, num_layers, num_classes, bidirectional)\n",
        "model.to(device)\n",
        "criterion = nn.CrossEntropyLoss()\n",
        "optimizer = optim.Adam(model.parameters(), lr=0.01)"
      ],
      "execution_count": 30,
      "outputs": [
        {
          "output_type": "stream",
          "text": [
            "/usr/local/lib/python3.6/dist-packages/torch/nn/modules/rnn.py:50: UserWarning: dropout option adds dropout after all but last recurrent layer, so non-zero dropout expects num_layers greater than 1, but got dropout=0.3 and num_layers=1\n",
            "  \"num_layers={}\".format(dropout, num_layers))\n"
          ],
          "name": "stderr"
        }
      ]
    },
    {
      "cell_type": "markdown",
      "metadata": {
        "id": "GwkHYzbQikT4",
        "colab_type": "text"
      },
      "source": [
        "# Train model with early stopping\n",
        "\n",
        "Train the model for `NUM_EPOCHS`. \n",
        "Keep track of training loss (just like we did in Lab 2).  \n",
        "Compute the validation accuracy after each epoch. Keep track of the best validation accuracy and save the model with the best validation accuracy.  \n",
        "\n",
        "If the validation accuracy does not improve for more than `early_stop_patience` times in a row, stop training. \n"
      ]
    },
    {
      "cell_type": "code",
      "metadata": {
        "id": "QOlop_TMOD9V",
        "colab_type": "code",
        "outputId": "c796850f-48c5-463a-af86-c6bb1477f827",
        "colab": {
          "base_uri": "https://localhost:8080/",
          "height": 121,
          "referenced_widgets": [
            "a3f36e9a0d51427c9043c46b9a7fa785",
            "e8566217e0c44454beddd776d0022525",
            "1e6ad73770e54b2a94c33b482a8d5b04",
            "73fe43226b1a4bbbadd418891467d3a9",
            "ebdfe5b2cc6d4a45aa900505c5ff8b26",
            "d1d2e13787214082a7b70b6290541728",
            "4ec335064e1d4f53a413fec1e3a6c85f",
            "5ea0bc4a5de444968a34a529ddb239ab"
          ]
        }
      },
      "source": [
        "train_loss_history = []\n",
        "val_accuracy_history = []\n",
        "best_val_accuracy = 0\n",
        "n_no_improve = 0\n",
        "early_stop_patience=2\n",
        "NUM_EPOCHS=10\n",
        "  \n",
        "for epoch in tqdm.tqdm_notebook(range(NUM_EPOCHS)):\n",
        "    model.train() # this enables regularization, which we don't currently have\n",
        "    for i, (data_batch, batch_labels) in enumerate(train_loader):\n",
        "        \"\"\"\n",
        "           Code for training lstm\n",
        "           Keep track of training of for each batch using train_loss_history\n",
        "        \"\"\"\n",
        "        preds = model(data_batch.to(device))\n",
        "        loss = criterion(preds, batch_labels.to(device))\n",
        "        loss.backward()\n",
        "        optimizer.step()\n",
        "        optimizer.zero_grad()\n",
        "        train_loss_history.append(loss.item())\n",
        "        \n",
        "    # The end of a training epoch \n",
        "\n",
        "    \"\"\"\n",
        "        Code for tracking best validation accuracy, saving the best model, and early stopping\n",
        "        # Compute validation accuracy after each training epoch using `evaluate` function\n",
        "        # Keep track of validation accuracy in `val_accuracy_history`\n",
        "        # save model with best validation accuracy, hint: torch.save(model, 'best_model.pt')\n",
        "        # Early stopping: \n",
        "        # stop training if the validation accuracy does not improve for more than `early_stop_patience` runs\n",
        "        5. TODO: Your code here\n",
        "    \"\"\"\n",
        "    val_accuracy = evaluate(model, val_loader, device)\n",
        "    val_accuracy_history.append(val_accuracy)\n",
        "    if val_accuracy > best_val_accuracy:\n",
        "      best_val_accuracy = val_accuracy\n",
        "      torch.save(model, 'best_model.pt')\n",
        "    else:\n",
        "      n_no_improve += 1\n",
        "      if n_no_improve > early_stop_patience:\n",
        "        break\n",
        "\n",
        "print(\"Best validation accuracy is: \", best_val_accuracy)"
      ],
      "execution_count": 31,
      "outputs": [
        {
          "output_type": "display_data",
          "data": {
            "application/vnd.jupyter.widget-view+json": {
              "model_id": "a3f36e9a0d51427c9043c46b9a7fa785",
              "version_minor": 0,
              "version_major": 2
            },
            "text/plain": [
              "HBox(children=(IntProgress(value=0, max=10), HTML(value='')))"
            ]
          },
          "metadata": {
            "tags": []
          }
        },
        {
          "output_type": "stream",
          "text": [
            "/usr/local/lib/python3.6/dist-packages/torch/serialization.py:360: UserWarning: Couldn't retrieve source code for container of type LSTMClassifier. It won't be checked for correctness upon loading.\n",
            "  \"type \" + obj.__name__ + \". It won't be checked \"\n"
          ],
          "name": "stderr"
        },
        {
          "output_type": "stream",
          "text": [
            "Best validation accuracy is:  0.9892215728759766\n"
          ],
          "name": "stdout"
        }
      ]
    },
    {
      "cell_type": "markdown",
      "metadata": {
        "id": "0hhFpkMHnT7Z",
        "colab_type": "text"
      },
      "source": [
        "#Question: Why do we want to use early stopping?\n",
        "Your answer: at a certain amount of epochs, you can get an overfitting of a dataset, so once your accuracy levels out and stops getting better, you can stop early to ensure you're not overfitting the dataset, and getting the models best accuracy"
      ]
    },
    {
      "cell_type": "markdown",
      "metadata": {
        "id": "I58rTeMEg05M",
        "colab_type": "text"
      },
      "source": [
        "# Draw training curve \n",
        "X-axis: training steps, Y-axis: training loss"
      ]
    },
    {
      "cell_type": "code",
      "metadata": {
        "id": "KyalZo6tSXo_",
        "colab_type": "code",
        "outputId": "304336d3-33cd-4817-c9da-3de0840299f2",
        "colab": {
          "base_uri": "https://localhost:8080/",
          "height": 282
        }
      },
      "source": [
        "pd.Series(train_loss_history).plot()"
      ],
      "execution_count": 32,
      "outputs": [
        {
          "output_type": "execute_result",
          "data": {
            "text/plain": [
              "<matplotlib.axes._subplots.AxesSubplot at 0x7faa3594dfd0>"
            ]
          },
          "metadata": {
            "tags": []
          },
          "execution_count": 32
        },
        {
          "output_type": "display_data",
          "data": {
            "image/png": "[encoded data removed]",
            "text/plain": [
              "<Figure size 432x288 with 1 Axes>"
            ]
          },
          "metadata": {
            "tags": []
          }
        }
      ]
    },
    {
      "cell_type": "markdown",
      "metadata": {
        "id": "oMiI_u4ggvQK",
        "colab_type": "text"
      },
      "source": [
        "# Validation accuracy curve\n",
        "X-axis: Epochs, Y-axis: validation accuracy"
      ]
    },
    {
      "cell_type": "code",
      "metadata": {
        "id": "Qt8iNjFwPVtc",
        "colab_type": "code",
        "outputId": "6ec10e23-9921-4d12-c689-a370b2e63c82",
        "colab": {
          "base_uri": "https://localhost:8080/",
          "height": 282
        }
      },
      "source": [
        "pd.Series(val_accuracy_history).plot()"
      ],
      "execution_count": 33,
      "outputs": [
        {
          "output_type": "execute_result",
          "data": {
            "text/plain": [
              "<matplotlib.axes._subplots.AxesSubplot at 0x7faa35a24630>"
            ]
          },
          "metadata": {
            "tags": []
          },
          "execution_count": 33
        },
        {
          "output_type": "display_data",
          "data": {
            "image/png": "[encoded data removed]",
            "text/plain": [
              "<Figure size 432x288 with 1 Axes>"
            ]
          },
          "metadata": {
            "tags": []
          }
        }
      ]
    },
    {
      "cell_type": "markdown",
      "metadata": {
        "id": "qqanG00Ggluj",
        "colab_type": "text"
      },
      "source": [
        "## You should expect to get test accuracy >= 95."
      ]
    },
    {
      "cell_type": "code",
      "metadata": {
        "id": "cw6KtE2uSf1X",
        "colab_type": "code",
        "outputId": "b27af95d-1e95-42c1-929e-10bcfbdcca42",
        "colab": {
          "base_uri": "https://localhost:8080/",
          "height": 34
        }
      },
      "source": [
        "# Reload best model from saved checkpoint\n",
        "# Compute test accuracy\n",
        "model = torch.load('best_model.pt')\n",
        "test_accuracy = evaluate(model, test_loader,device)\n",
        "print(test_accuracy)"
      ],
      "execution_count": 19,
      "outputs": [
        {
          "output_type": "stream",
          "text": [
            "0.9868263602256775\n"
          ],
          "name": "stdout"
        }
      ]
    },
    {
      "cell_type": "markdown",
      "metadata": {
        "id": "kZsexYVPg6aq",
        "colab_type": "text"
      },
      "source": [
        "## Optional Bonus Questions: \n",
        "(If you scored full mark (total: 100) in all previous sections, you won't get additional marks so you probably won't need this. But you will get additional bonus marks for answering this if your score is below 100.)\n",
        "\n",
        "1. What are the problems with recurrent neural networks (RNNs) and how do we overcome them?\n",
        "\n",
        "2. What is the benefit of using the mean or max pooling of hidden states of LSTM instead of using the last hidden state of LSTM?\n",
        "\n",
        "## Answers:\n",
        "\n",
        "1. Since rnn's are sequential, it makes it more difficult to keep track of long term data and their connections, which can be fixed by LSTM which uses cell states.\n",
        "2. Pooling ensures that the most important features are included.\n",
        "\n"
      ]
    }
  ]
}