{
  "nbformat": 4,
  "nbformat_minor": 0,
  "metadata": {
    "kernelspec": {
      "display_name": "Python 3",
      "language": "python",
      "name": "python3"
    },
    "language_info": {
      "codemirror_mode": {
        "name": "ipython",
        "version": 3
      },
      "file_extension": ".py",
      "mimetype": "text/x-python",
      "name": "python",
      "nbconvert_exporter": "python",
      "pygments_lexer": "ipython3",
      "version": "3.7.3"
    },
    "colab": {
      "name": "Pena_HW-3 Word Embeddings.ipynb",
      "provenance": [],
      "collapsed_sections": []
    },
    "widgets": {
      "application/vnd.jupyter.widget-state+json": {
        "0e6a245f96cc46f2940e19626a26e680": {
          "model_module": "@jupyter-widgets/controls",
          "model_name": "HBoxModel",
          "state": {
            "_view_name": "HBoxView",
            "_dom_classes": [],
            "_model_name": "HBoxModel",
            "_view_module": "@jupyter-widgets/controls",
            "_model_module_version": "1.5.0",
            "_view_count": null,
            "_view_module_version": "1.5.0",
            "box_style": "",
            "layout": "IPY_MODEL_cd7f5be150204db893a096b4f765f1bb",
            "_model_module": "@jupyter-widgets/controls",
            "children": [
              "IPY_MODEL_34e7fda7a35742339905cff355729aac",
              "IPY_MODEL_afae6fcd353f402a8ad23260e9935754"
            ]
          }
        },
        "cd7f5be150204db893a096b4f765f1bb": {
          "model_module": "@jupyter-widgets/base",
          "model_name": "LayoutModel",
          "state": {
            "_view_name": "LayoutView",
            "grid_template_rows": null,
            "right": null,
            "justify_content": null,
            "_view_module": "@jupyter-widgets/base",
            "overflow": null,
            "_model_module_version": "1.2.0",
            "_view_count": null,
            "flex_flow": null,
            "width": null,
            "min_width": null,
            "border": null,
            "align_items": null,
            "bottom": null,
            "_model_module": "@jupyter-widgets/base",
            "top": null,
            "grid_column": null,
            "overflow_y": null,
            "overflow_x": null,
            "grid_auto_flow": null,
            "grid_area": null,
            "grid_template_columns": null,
            "flex": null,
            "_model_name": "LayoutModel",
            "justify_items": null,
            "grid_row": null,
            "max_height": null,
            "align_content": null,
            "visibility": null,
            "align_self": null,
            "height": null,
            "min_height": null,
            "padding": null,
            "grid_auto_rows": null,
            "grid_gap": null,
            "max_width": null,
            "order": null,
            "_view_module_version": "1.2.0",
            "grid_template_areas": null,
            "object_position": null,
            "object_fit": null,
            "grid_auto_columns": null,
            "margin": null,
            "display": null,
            "left": null
          }
        },
        "34e7fda7a35742339905cff355729aac": {
          "model_module": "@jupyter-widgets/controls",
          "model_name": "IntProgressModel",
          "state": {
            "_view_name": "ProgressView",
            "style": "IPY_MODEL_1d2fdf0b7de348439e285d5e34c6ec39",
            "_dom_classes": [],
            "description": "",
            "_model_name": "IntProgressModel",
            "bar_style": "success",
            "max": 11855,
            "_view_module": "@jupyter-widgets/controls",
            "_model_module_version": "1.5.0",
            "value": 11855,
            "_view_count": null,
            "_view_module_version": "1.5.0",
            "orientation": "horizontal",
            "min": 0,
            "description_tooltip": null,
            "_model_module": "@jupyter-widgets/controls",
            "layout": "IPY_MODEL_dcbeb439d6724a30968a630fba86ba08"
          }
        },
        "afae6fcd353f402a8ad23260e9935754": {
          "model_module": "@jupyter-widgets/controls",
          "model_name": "HTMLModel",
          "state": {
            "_view_name": "HTMLView",
            "style": "IPY_MODEL_2763b39e8e4e4406872ce5ee88999604",
            "_dom_classes": [],
            "description": "",
            "_model_name": "HTMLModel",
            "placeholder": "​",
            "_view_module": "@jupyter-widgets/controls",
            "_model_module_version": "1.5.0",
            "value": "100% 11855/11855 [00:01&lt;00:00, 6130.51it/s]",
            "_view_count": null,
            "_view_module_version": "1.5.0",
            "description_tooltip": null,
            "_model_module": "@jupyter-widgets/controls",
            "layout": "IPY_MODEL_47ebf42225ed474e841eff60f78dc15b"
          }
        },
        "1d2fdf0b7de348439e285d5e34c6ec39": {
          "model_module": "@jupyter-widgets/controls",
          "model_name": "ProgressStyleModel",
          "state": {
            "_view_name": "StyleView",
            "_model_name": "ProgressStyleModel",
            "description_width": "",
            "_view_module": "@jupyter-widgets/base",
            "_model_module_version": "1.5.0",
            "_view_count": null,
            "_view_module_version": "1.2.0",
            "bar_color": null,
            "_model_module": "@jupyter-widgets/controls"
          }
        },
        "dcbeb439d6724a30968a630fba86ba08": {
          "model_module": "@jupyter-widgets/base",
          "model_name": "LayoutModel",
          "state": {
            "_view_name": "LayoutView",
            "grid_template_rows": null,
            "right": null,
            "justify_content": null,
            "_view_module": "@jupyter-widgets/base",
            "overflow": null,
            "_model_module_version": "1.2.0",
            "_view_count": null,
            "flex_flow": null,
            "width": null,
            "min_width": null,
            "border": null,
            "align_items": null,
            "bottom": null,
            "_model_module": "@jupyter-widgets/base",
            "top": null,
            "grid_column": null,
            "overflow_y": null,
            "overflow_x": null,
            "grid_auto_flow": null,
            "grid_area": null,
            "grid_template_columns": null,
            "flex": null,
            "_model_name": "LayoutModel",
            "justify_items": null,
            "grid_row": null,
            "max_height": null,
            "align_content": null,
            "visibility": null,
            "align_self": null,
            "height": null,
            "min_height": null,
            "padding": null,
            "grid_auto_rows": null,
            "grid_gap": null,
            "max_width": null,
            "order": null,
            "_view_module_version": "1.2.0",
            "grid_template_areas": null,
            "object_position": null,
            "object_fit": null,
            "grid_auto_columns": null,
            "margin": null,
            "display": null,
            "left": null
          }
        },
        "2763b39e8e4e4406872ce5ee88999604": {
          "model_module": "@jupyter-widgets/controls",
          "model_name": "DescriptionStyleModel",
          "state": {
            "_view_name": "StyleView",
            "_model_name": "DescriptionStyleModel",
            "description_width": "",
            "_view_module": "@jupyter-widgets/base",
            "_model_module_version": "1.5.0",
            "_view_count": null,
            "_view_module_version": "1.2.0",
            "_model_module": "@jupyter-widgets/controls"
          }
        },
        "47ebf42225ed474e841eff60f78dc15b": {
          "model_module": "@jupyter-widgets/base",
          "model_name": "LayoutModel",
          "state": {
            "_view_name": "LayoutView",
            "grid_template_rows": null,
            "right": null,
            "justify_content": null,
            "_view_module": "@jupyter-widgets/base",
            "overflow": null,
            "_model_module_version": "1.2.0",
            "_view_count": null,
            "flex_flow": null,
            "width": null,
            "min_width": null,
            "border": null,
            "align_items": null,
            "bottom": null,
            "_model_module": "@jupyter-widgets/base",
            "top": null,
            "grid_column": null,
            "overflow_y": null,
            "overflow_x": null,
            "grid_auto_flow": null,
            "grid_area": null,
            "grid_template_columns": null,
            "flex": null,
            "_model_name": "LayoutModel",
            "justify_items": null,
            "grid_row": null,
            "max_height": null,
            "align_content": null,
            "visibility": null,
            "align_self": null,
            "height": null,
            "min_height": null,
            "padding": null,
            "grid_auto_rows": null,
            "grid_gap": null,
            "max_width": null,
            "order": null,
            "_view_module_version": "1.2.0",
            "grid_template_areas": null,
            "object_position": null,
            "object_fit": null,
            "grid_auto_columns": null,
            "margin": null,
            "display": null,
            "left": null
          }
        },
        "9186cb92a1e1474aa84e58020eee25bf": {
          "model_module": "@jupyter-widgets/controls",
          "model_name": "HBoxModel",
          "state": {
            "_view_name": "HBoxView",
            "_dom_classes": [],
            "_model_name": "HBoxModel",
            "_view_module": "@jupyter-widgets/controls",
            "_model_module_version": "1.5.0",
            "_view_count": null,
            "_view_module_version": "1.5.0",
            "box_style": "",
            "layout": "IPY_MODEL_fc45e140ddfe425f940190834ec36c4e",
            "_model_module": "@jupyter-widgets/controls",
            "children": [
              "IPY_MODEL_1e7d19567dba4e67b6b995b7f094d814",
              "IPY_MODEL_fca09cf5b9f54983a41655103d5ccdcc"
            ]
          }
        },
        "fc45e140ddfe425f940190834ec36c4e": {
          "model_module": "@jupyter-widgets/base",
          "model_name": "LayoutModel",
          "state": {
            "_view_name": "LayoutView",
            "grid_template_rows": null,
            "right": null,
            "justify_content": null,
            "_view_module": "@jupyter-widgets/base",
            "overflow": null,
            "_model_module_version": "1.2.0",
            "_view_count": null,
            "flex_flow": null,
            "width": null,
            "min_width": null,
            "border": null,
            "align_items": null,
            "bottom": null,
            "_model_module": "@jupyter-widgets/base",
            "top": null,
            "grid_column": null,
            "overflow_y": null,
            "overflow_x": null,
            "grid_auto_flow": null,
            "grid_area": null,
            "grid_template_columns": null,
            "flex": null,
            "_model_name": "LayoutModel",
            "justify_items": null,
            "grid_row": null,
            "max_height": null,
            "align_content": null,
            "visibility": null,
            "align_self": null,
            "height": null,
            "min_height": null,
            "padding": null,
            "grid_auto_rows": null,
            "grid_gap": null,
            "max_width": null,
            "order": null,
            "_view_module_version": "1.2.0",
            "grid_template_areas": null,
            "object_position": null,
            "object_fit": null,
            "grid_auto_columns": null,
            "margin": null,
            "display": null,
            "left": null
          }
        },
        "1e7d19567dba4e67b6b995b7f094d814": {
          "model_module": "@jupyter-widgets/controls",
          "model_name": "IntProgressModel",
          "state": {
            "_view_name": "ProgressView",
            "style": "IPY_MODEL_a15136182f844c2bbb59c9c8cf8587ff",
            "_dom_classes": [],
            "description": "",
            "_model_name": "IntProgressModel",
            "bar_style": "success",
            "max": 10000,
            "_view_module": "@jupyter-widgets/controls",
            "_model_module_version": "1.5.0",
            "value": 10000,
            "_view_count": null,
            "_view_module_version": "1.5.0",
            "orientation": "horizontal",
            "min": 0,
            "description_tooltip": null,
            "_model_module": "@jupyter-widgets/controls",
            "layout": "IPY_MODEL_d3c4b406dbe6444d8c3c98519802dad2"
          }
        },
        "fca09cf5b9f54983a41655103d5ccdcc": {
          "model_module": "@jupyter-widgets/controls",
          "model_name": "HTMLModel",
          "state": {
            "_view_name": "HTMLView",
            "style": "IPY_MODEL_2a07142fb4f544c9bd8044dc6b8a8932",
            "_dom_classes": [],
            "description": "",
            "_model_name": "HTMLModel",
            "placeholder": "​",
            "_view_module": "@jupyter-widgets/controls",
            "_model_module_version": "1.5.0",
            "value": "100% 10000/10000 [02:05&lt;00:00, 79.75it/s]",
            "_view_count": null,
            "_view_module_version": "1.5.0",
            "description_tooltip": null,
            "_model_module": "@jupyter-widgets/controls",
            "layout": "IPY_MODEL_8537b7ea542f41049a2c7e76fbc95252"
          }
        },
        "a15136182f844c2bbb59c9c8cf8587ff": {
          "model_module": "@jupyter-widgets/controls",
          "model_name": "ProgressStyleModel",
          "state": {
            "_view_name": "StyleView",
            "_model_name": "ProgressStyleModel",
            "description_width": "",
            "_view_module": "@jupyter-widgets/base",
            "_model_module_version": "1.5.0",
            "_view_count": null,
            "_view_module_version": "1.2.0",
            "bar_color": null,
            "_model_module": "@jupyter-widgets/controls"
          }
        },
        "d3c4b406dbe6444d8c3c98519802dad2": {
          "model_module": "@jupyter-widgets/base",
          "model_name": "LayoutModel",
          "state": {
            "_view_name": "LayoutView",
            "grid_template_rows": null,
            "right": null,
            "justify_content": null,
            "_view_module": "@jupyter-widgets/base",
            "overflow": null,
            "_model_module_version": "1.2.0",
            "_view_count": null,
            "flex_flow": null,
            "width": null,
            "min_width": null,
            "border": null,
            "align_items": null,
            "bottom": null,
            "_model_module": "@jupyter-widgets/base",
            "top": null,
            "grid_column": null,
            "overflow_y": null,
            "overflow_x": null,
            "grid_auto_flow": null,
            "grid_area": null,
            "grid_template_columns": null,
            "flex": null,
            "_model_name": "LayoutModel",
            "justify_items": null,
            "grid_row": null,
            "max_height": null,
            "align_content": null,
            "visibility": null,
            "align_self": null,
            "height": null,
            "min_height": null,
            "padding": null,
            "grid_auto_rows": null,
            "grid_gap": null,
            "max_width": null,
            "order": null,
            "_view_module_version": "1.2.0",
            "grid_template_areas": null,
            "object_position": null,
            "object_fit": null,
            "grid_auto_columns": null,
            "margin": null,
            "display": null,
            "left": null
          }
        },
        "2a07142fb4f544c9bd8044dc6b8a8932": {
          "model_module": "@jupyter-widgets/controls",
          "model_name": "DescriptionStyleModel",
          "state": {
            "_view_name": "StyleView",
            "_model_name": "DescriptionStyleModel",
            "description_width": "",
            "_view_module": "@jupyter-widgets/base",
            "_model_module_version": "1.5.0",
            "_view_count": null,
            "_view_module_version": "1.2.0",
            "_model_module": "@jupyter-widgets/controls"
          }
        },
        "8537b7ea542f41049a2c7e76fbc95252": {
          "model_module": "@jupyter-widgets/base",
          "model_name": "LayoutModel",
          "state": {
            "_view_name": "LayoutView",
            "grid_template_rows": null,
            "right": null,
            "justify_content": null,
            "_view_module": "@jupyter-widgets/base",
            "overflow": null,
            "_model_module_version": "1.2.0",
            "_view_count": null,
            "flex_flow": null,
            "width": null,
            "min_width": null,
            "border": null,
            "align_items": null,
            "bottom": null,
            "_model_module": "@jupyter-widgets/base",
            "top": null,
            "grid_column": null,
            "overflow_y": null,
            "overflow_x": null,
            "grid_auto_flow": null,
            "grid_area": null,
            "grid_template_columns": null,
            "flex": null,
            "_model_name": "LayoutModel",
            "justify_items": null,
            "grid_row": null,
            "max_height": null,
            "align_content": null,
            "visibility": null,
            "align_self": null,
            "height": null,
            "min_height": null,
            "padding": null,
            "grid_auto_rows": null,
            "grid_gap": null,
            "max_width": null,
            "order": null,
            "_view_module_version": "1.2.0",
            "grid_template_areas": null,
            "object_position": null,
            "object_fit": null,
            "grid_auto_columns": null,
            "margin": null,
            "display": null,
            "left": null
          }
        },
        "b3fe6d6006af4bf4b8dd802a20b13a92": {
          "model_module": "@jupyter-widgets/controls",
          "model_name": "HBoxModel",
          "state": {
            "_view_name": "HBoxView",
            "_dom_classes": [],
            "_model_name": "HBoxModel",
            "_view_module": "@jupyter-widgets/controls",
            "_model_module_version": "1.5.0",
            "_view_count": null,
            "_view_module_version": "1.5.0",
            "box_style": "",
            "layout": "IPY_MODEL_4485d789f6b24462abcbc026a82f93bc",
            "_model_module": "@jupyter-widgets/controls",
            "children": [
              "IPY_MODEL_58d06620e67741f0b66fe2e63d609cda",
              "IPY_MODEL_a322358f6a0a452fa123fbccec0125a3"
            ]
          }
        },
        "4485d789f6b24462abcbc026a82f93bc": {
          "model_module": "@jupyter-widgets/base",
          "model_name": "LayoutModel",
          "state": {
            "_view_name": "LayoutView",
            "grid_template_rows": null,
            "right": null,
            "justify_content": null,
            "_view_module": "@jupyter-widgets/base",
            "overflow": null,
            "_model_module_version": "1.2.0",
            "_view_count": null,
            "flex_flow": null,
            "width": null,
            "min_width": null,
            "border": null,
            "align_items": null,
            "bottom": null,
            "_model_module": "@jupyter-widgets/base",
            "top": null,
            "grid_column": null,
            "overflow_y": null,
            "overflow_x": null,
            "grid_auto_flow": null,
            "grid_area": null,
            "grid_template_columns": null,
            "flex": null,
            "_model_name": "LayoutModel",
            "justify_items": null,
            "grid_row": null,
            "max_height": null,
            "align_content": null,
            "visibility": null,
            "align_self": null,
            "height": null,
            "min_height": null,
            "padding": null,
            "grid_auto_rows": null,
            "grid_gap": null,
            "max_width": null,
            "order": null,
            "_view_module_version": "1.2.0",
            "grid_template_areas": null,
            "object_position": null,
            "object_fit": null,
            "grid_auto_columns": null,
            "margin": null,
            "display": null,
            "left": null
          }
        },
        "58d06620e67741f0b66fe2e63d609cda": {
          "model_module": "@jupyter-widgets/controls",
          "model_name": "IntProgressModel",
          "state": {
            "_view_name": "ProgressView",
            "style": "IPY_MODEL_0281f2b92bbe4348bf59fe6fedcbfa4e",
            "_dom_classes": [],
            "description": "",
            "_model_name": "IntProgressModel",
            "bar_style": "success",
            "max": 10000,
            "_view_module": "@jupyter-widgets/controls",
            "_model_module_version": "1.5.0",
            "value": 10000,
            "_view_count": null,
            "_view_module_version": "1.5.0",
            "orientation": "horizontal",
            "min": 0,
            "description_tooltip": null,
            "_model_module": "@jupyter-widgets/controls",
            "layout": "IPY_MODEL_d4885fafa3884467a592e5c7e9904ecd"
          }
        },
        "a322358f6a0a452fa123fbccec0125a3": {
          "model_module": "@jupyter-widgets/controls",
          "model_name": "HTMLModel",
          "state": {
            "_view_name": "HTMLView",
            "style": "IPY_MODEL_2dbf9b8976ac4121832e7621543a6ac2",
            "_dom_classes": [],
            "description": "",
            "_model_name": "HTMLModel",
            "placeholder": "​",
            "_view_module": "@jupyter-widgets/controls",
            "_model_module_version": "1.5.0",
            "value": "100% 10000/10000 [02:00&lt;00:00, 83.06it/s]",
            "_view_count": null,
            "_view_module_version": "1.5.0",
            "description_tooltip": null,
            "_model_module": "@jupyter-widgets/controls",
            "layout": "IPY_MODEL_b30ca71804c84127adbedaddc01d87f7"
          }
        },
        "0281f2b92bbe4348bf59fe6fedcbfa4e": {
          "model_module": "@jupyter-widgets/controls",
          "model_name": "ProgressStyleModel",
          "state": {
            "_view_name": "StyleView",
            "_model_name": "ProgressStyleModel",
            "description_width": "",
            "_view_module": "@jupyter-widgets/base",
            "_model_module_version": "1.5.0",
            "_view_count": null,
            "_view_module_version": "1.2.0",
            "bar_color": null,
            "_model_module": "@jupyter-widgets/controls"
          }
        },
        "d4885fafa3884467a592e5c7e9904ecd": {
          "model_module": "@jupyter-widgets/base",
          "model_name": "LayoutModel",
          "state": {
            "_view_name": "LayoutView",
            "grid_template_rows": null,
            "right": null,
            "justify_content": null,
            "_view_module": "@jupyter-widgets/base",
            "overflow": null,
            "_model_module_version": "1.2.0",
            "_view_count": null,
            "flex_flow": null,
            "width": null,
            "min_width": null,
            "border": null,
            "align_items": null,
            "bottom": null,
            "_model_module": "@jupyter-widgets/base",
            "top": null,
            "grid_column": null,
            "overflow_y": null,
            "overflow_x": null,
            "grid_auto_flow": null,
            "grid_area": null,
            "grid_template_columns": null,
            "flex": null,
            "_model_name": "LayoutModel",
            "justify_items": null,
            "grid_row": null,
            "max_height": null,
            "align_content": null,
            "visibility": null,
            "align_self": null,
            "height": null,
            "min_height": null,
            "padding": null,
            "grid_auto_rows": null,
            "grid_gap": null,
            "max_width": null,
            "order": null,
            "_view_module_version": "1.2.0",
            "grid_template_areas": null,
            "object_position": null,
            "object_fit": null,
            "grid_auto_columns": null,
            "margin": null,
            "display": null,
            "left": null
          }
        },
        "2dbf9b8976ac4121832e7621543a6ac2": {
          "model_module": "@jupyter-widgets/controls",
          "model_name": "DescriptionStyleModel",
          "state": {
            "_view_name": "StyleView",
            "_model_name": "DescriptionStyleModel",
            "description_width": "",
            "_view_module": "@jupyter-widgets/base",
            "_model_module_version": "1.5.0",
            "_view_count": null,
            "_view_module_version": "1.2.0",
            "_model_module": "@jupyter-widgets/controls"
          }
        },
        "b30ca71804c84127adbedaddc01d87f7": {
          "model_module": "@jupyter-widgets/base",
          "model_name": "LayoutModel",
          "state": {
            "_view_name": "LayoutView",
            "grid_template_rows": null,
            "right": null,
            "justify_content": null,
            "_view_module": "@jupyter-widgets/base",
            "overflow": null,
            "_model_module_version": "1.2.0",
            "_view_count": null,
            "flex_flow": null,
            "width": null,
            "min_width": null,
            "border": null,
            "align_items": null,
            "bottom": null,
            "_model_module": "@jupyter-widgets/base",
            "top": null,
            "grid_column": null,
            "overflow_y": null,
            "overflow_x": null,
            "grid_auto_flow": null,
            "grid_area": null,
            "grid_template_columns": null,
            "flex": null,
            "_model_name": "LayoutModel",
            "justify_items": null,
            "grid_row": null,
            "max_height": null,
            "align_content": null,
            "visibility": null,
            "align_self": null,
            "height": null,
            "min_height": null,
            "padding": null,
            "grid_auto_rows": null,
            "grid_gap": null,
            "max_width": null,
            "order": null,
            "_view_module_version": "1.2.0",
            "grid_template_areas": null,
            "object_position": null,
            "object_fit": null,
            "grid_auto_columns": null,
            "margin": null,
            "display": null,
            "left": null
          }
        },
        "67ef848ebc624e44939a37f590f08d55": {
          "model_module": "@jupyter-widgets/controls",
          "model_name": "HBoxModel",
          "state": {
            "_view_name": "HBoxView",
            "_dom_classes": [],
            "_model_name": "HBoxModel",
            "_view_module": "@jupyter-widgets/controls",
            "_model_module_version": "1.5.0",
            "_view_count": null,
            "_view_module_version": "1.5.0",
            "box_style": "",
            "layout": "IPY_MODEL_32c6311940474a9596115c3f5c20a50f",
            "_model_module": "@jupyter-widgets/controls",
            "children": [
              "IPY_MODEL_8f797538feed47a786085f1c0043e4f8",
              "IPY_MODEL_bd30e4b76cec48f9a5c8b1cb9018b14e"
            ]
          }
        },
        "32c6311940474a9596115c3f5c20a50f": {
          "model_module": "@jupyter-widgets/base",
          "model_name": "LayoutModel",
          "state": {
            "_view_name": "LayoutView",
            "grid_template_rows": null,
            "right": null,
            "justify_content": null,
            "_view_module": "@jupyter-widgets/base",
            "overflow": null,
            "_model_module_version": "1.2.0",
            "_view_count": null,
            "flex_flow": null,
            "width": null,
            "min_width": null,
            "border": null,
            "align_items": null,
            "bottom": null,
            "_model_module": "@jupyter-widgets/base",
            "top": null,
            "grid_column": null,
            "overflow_y": null,
            "overflow_x": null,
            "grid_auto_flow": null,
            "grid_area": null,
            "grid_template_columns": null,
            "flex": null,
            "_model_name": "LayoutModel",
            "justify_items": null,
            "grid_row": null,
            "max_height": null,
            "align_content": null,
            "visibility": null,
            "align_self": null,
            "height": null,
            "min_height": null,
            "padding": null,
            "grid_auto_rows": null,
            "grid_gap": null,
            "max_width": null,
            "order": null,
            "_view_module_version": "1.2.0",
            "grid_template_areas": null,
            "object_position": null,
            "object_fit": null,
            "grid_auto_columns": null,
            "margin": null,
            "display": null,
            "left": null
          }
        },
        "8f797538feed47a786085f1c0043e4f8": {
          "model_module": "@jupyter-widgets/controls",
          "model_name": "IntProgressModel",
          "state": {
            "_view_name": "ProgressView",
            "style": "IPY_MODEL_bc32584c93e142f8912a91a33a4207b1",
            "_dom_classes": [],
            "description": "",
            "_model_name": "IntProgressModel",
            "bar_style": "success",
            "max": 10000,
            "_view_module": "@jupyter-widgets/controls",
            "_model_module_version": "1.5.0",
            "value": 10000,
            "_view_count": null,
            "_view_module_version": "1.5.0",
            "orientation": "horizontal",
            "min": 0,
            "description_tooltip": null,
            "_model_module": "@jupyter-widgets/controls",
            "layout": "IPY_MODEL_15cc65b634cd4188897a2335d00ce67e"
          }
        },
        "bd30e4b76cec48f9a5c8b1cb9018b14e": {
          "model_module": "@jupyter-widgets/controls",
          "model_name": "HTMLModel",
          "state": {
            "_view_name": "HTMLView",
            "style": "IPY_MODEL_132e63600a5f4292870ae6891029d925",
            "_dom_classes": [],
            "description": "",
            "_model_name": "HTMLModel",
            "placeholder": "​",
            "_view_module": "@jupyter-widgets/controls",
            "_model_module_version": "1.5.0",
            "value": "100% 10000/10000 [02:01&lt;00:00, 82.19it/s]",
            "_view_count": null,
            "_view_module_version": "1.5.0",
            "description_tooltip": null,
            "_model_module": "@jupyter-widgets/controls",
            "layout": "IPY_MODEL_d2d044240b134527ad20de65538ff435"
          }
        },
        "bc32584c93e142f8912a91a33a4207b1": {
          "model_module": "@jupyter-widgets/controls",
          "model_name": "ProgressStyleModel",
          "state": {
            "_view_name": "StyleView",
            "_model_name": "ProgressStyleModel",
            "description_width": "",
            "_view_module": "@jupyter-widgets/base",
            "_model_module_version": "1.5.0",
            "_view_count": null,
            "_view_module_version": "1.2.0",
            "bar_color": null,
            "_model_module": "@jupyter-widgets/controls"
          }
        },
        "15cc65b634cd4188897a2335d00ce67e": {
          "model_module": "@jupyter-widgets/base",
          "model_name": "LayoutModel",
          "state": {
            "_view_name": "LayoutView",
            "grid_template_rows": null,
            "right": null,
            "justify_content": null,
            "_view_module": "@jupyter-widgets/base",
            "overflow": null,
            "_model_module_version": "1.2.0",
            "_view_count": null,
            "flex_flow": null,
            "width": null,
            "min_width": null,
            "border": null,
            "align_items": null,
            "bottom": null,
            "_model_module": "@jupyter-widgets/base",
            "top": null,
            "grid_column": null,
            "overflow_y": null,
            "overflow_x": null,
            "grid_auto_flow": null,
            "grid_area": null,
            "grid_template_columns": null,
            "flex": null,
            "_model_name": "LayoutModel",
            "justify_items": null,
            "grid_row": null,
            "max_height": null,
            "align_content": null,
            "visibility": null,
            "align_self": null,
            "height": null,
            "min_height": null,
            "padding": null,
            "grid_auto_rows": null,
            "grid_gap": null,
            "max_width": null,
            "order": null,
            "_view_module_version": "1.2.0",
            "grid_template_areas": null,
            "object_position": null,
            "object_fit": null,
            "grid_auto_columns": null,
            "margin": null,
            "display": null,
            "left": null
          }
        },
        "132e63600a5f4292870ae6891029d925": {
          "model_module": "@jupyter-widgets/controls",
          "model_name": "DescriptionStyleModel",
          "state": {
            "_view_name": "StyleView",
            "_model_name": "DescriptionStyleModel",
            "description_width": "",
            "_view_module": "@jupyter-widgets/base",
            "_model_module_version": "1.5.0",
            "_view_count": null,
            "_view_module_version": "1.2.0",
            "_model_module": "@jupyter-widgets/controls"
          }
        },
        "d2d044240b134527ad20de65538ff435": {
          "model_module": "@jupyter-widgets/base",
          "model_name": "LayoutModel",
          "state": {
            "_view_name": "LayoutView",
            "grid_template_rows": null,
            "right": null,
            "justify_content": null,
            "_view_module": "@jupyter-widgets/base",
            "overflow": null,
            "_model_module_version": "1.2.0",
            "_view_count": null,
            "flex_flow": null,
            "width": null,
            "min_width": null,
            "border": null,
            "align_items": null,
            "bottom": null,
            "_model_module": "@jupyter-widgets/base",
            "top": null,
            "grid_column": null,
            "overflow_y": null,
            "overflow_x": null,
            "grid_auto_flow": null,
            "grid_area": null,
            "grid_template_columns": null,
            "flex": null,
            "_model_name": "LayoutModel",
            "justify_items": null,
            "grid_row": null,
            "max_height": null,
            "align_content": null,
            "visibility": null,
            "align_self": null,
            "height": null,
            "min_height": null,
            "padding": null,
            "grid_auto_rows": null,
            "grid_gap": null,
            "max_width": null,
            "order": null,
            "_view_module_version": "1.2.0",
            "grid_template_areas": null,
            "object_position": null,
            "object_fit": null,
            "grid_auto_columns": null,
            "margin": null,
            "display": null,
            "left": null
          }
        },
        "9c2847172cf84659af0120b5c13eeabf": {
          "model_module": "@jupyter-widgets/controls",
          "model_name": "HBoxModel",
          "state": {
            "_view_name": "HBoxView",
            "_dom_classes": [],
            "_model_name": "HBoxModel",
            "_view_module": "@jupyter-widgets/controls",
            "_model_module_version": "1.5.0",
            "_view_count": null,
            "_view_module_version": "1.5.0",
            "box_style": "",
            "layout": "IPY_MODEL_6245105d164d4160b3ca1a804c20cb21",
            "_model_module": "@jupyter-widgets/controls",
            "children": [
              "IPY_MODEL_5a9999bbb47f4f768752268a52b6680a",
              "IPY_MODEL_cee06660bece40298b0f30e71f991256"
            ]
          }
        },
        "6245105d164d4160b3ca1a804c20cb21": {
          "model_module": "@jupyter-widgets/base",
          "model_name": "LayoutModel",
          "state": {
            "_view_name": "LayoutView",
            "grid_template_rows": null,
            "right": null,
            "justify_content": null,
            "_view_module": "@jupyter-widgets/base",
            "overflow": null,
            "_model_module_version": "1.2.0",
            "_view_count": null,
            "flex_flow": null,
            "width": null,
            "min_width": null,
            "border": null,
            "align_items": null,
            "bottom": null,
            "_model_module": "@jupyter-widgets/base",
            "top": null,
            "grid_column": null,
            "overflow_y": null,
            "overflow_x": null,
            "grid_auto_flow": null,
            "grid_area": null,
            "grid_template_columns": null,
            "flex": null,
            "_model_name": "LayoutModel",
            "justify_items": null,
            "grid_row": null,
            "max_height": null,
            "align_content": null,
            "visibility": null,
            "align_self": null,
            "height": null,
            "min_height": null,
            "padding": null,
            "grid_auto_rows": null,
            "grid_gap": null,
            "max_width": null,
            "order": null,
            "_view_module_version": "1.2.0",
            "grid_template_areas": null,
            "object_position": null,
            "object_fit": null,
            "grid_auto_columns": null,
            "margin": null,
            "display": null,
            "left": null
          }
        },
        "5a9999bbb47f4f768752268a52b6680a": {
          "model_module": "@jupyter-widgets/controls",
          "model_name": "IntProgressModel",
          "state": {
            "_view_name": "ProgressView",
            "style": "IPY_MODEL_1a22e5ffddf440a0b05dce30d398157e",
            "_dom_classes": [],
            "description": "",
            "_model_name": "IntProgressModel",
            "bar_style": "success",
            "max": 10000,
            "_view_module": "@jupyter-widgets/controls",
            "_model_module_version": "1.5.0",
            "value": 10000,
            "_view_count": null,
            "_view_module_version": "1.5.0",
            "orientation": "horizontal",
            "min": 0,
            "description_tooltip": null,
            "_model_module": "@jupyter-widgets/controls",
            "layout": "IPY_MODEL_0796a15e66e5424981b5e70f2f3fe869"
          }
        },
        "cee06660bece40298b0f30e71f991256": {
          "model_module": "@jupyter-widgets/controls",
          "model_name": "HTMLModel",
          "state": {
            "_view_name": "HTMLView",
            "style": "IPY_MODEL_d542948a9eff4c749eea897026ee992f",
            "_dom_classes": [],
            "description": "",
            "_model_name": "HTMLModel",
            "placeholder": "​",
            "_view_module": "@jupyter-widgets/controls",
            "_model_module_version": "1.5.0",
            "value": "100% 10000/10000 [01:58&lt;00:00, 84.14it/s]",
            "_view_count": null,
            "_view_module_version": "1.5.0",
            "description_tooltip": null,
            "_model_module": "@jupyter-widgets/controls",
            "layout": "IPY_MODEL_1852c431165b484ca0a0228611833344"
          }
        },
        "1a22e5ffddf440a0b05dce30d398157e": {
          "model_module": "@jupyter-widgets/controls",
          "model_name": "ProgressStyleModel",
          "state": {
            "_view_name": "StyleView",
            "_model_name": "ProgressStyleModel",
            "description_width": "",
            "_view_module": "@jupyter-widgets/base",
            "_model_module_version": "1.5.0",
            "_view_count": null,
            "_view_module_version": "1.2.0",
            "bar_color": null,
            "_model_module": "@jupyter-widgets/controls"
          }
        },
        "0796a15e66e5424981b5e70f2f3fe869": {
          "model_module": "@jupyter-widgets/base",
          "model_name": "LayoutModel",
          "state": {
            "_view_name": "LayoutView",
            "grid_template_rows": null,
            "right": null,
            "justify_content": null,
            "_view_module": "@jupyter-widgets/base",
            "overflow": null,
            "_model_module_version": "1.2.0",
            "_view_count": null,
            "flex_flow": null,
            "width": null,
            "min_width": null,
            "border": null,
            "align_items": null,
            "bottom": null,
            "_model_module": "@jupyter-widgets/base",
            "top": null,
            "grid_column": null,
            "overflow_y": null,
            "overflow_x": null,
            "grid_auto_flow": null,
            "grid_area": null,
            "grid_template_columns": null,
            "flex": null,
            "_model_name": "LayoutModel",
            "justify_items": null,
            "grid_row": null,
            "max_height": null,
            "align_content": null,
            "visibility": null,
            "align_self": null,
            "height": null,
            "min_height": null,
            "padding": null,
            "grid_auto_rows": null,
            "grid_gap": null,
            "max_width": null,
            "order": null,
            "_view_module_version": "1.2.0",
            "grid_template_areas": null,
            "object_position": null,
            "object_fit": null,
            "grid_auto_columns": null,
            "margin": null,
            "display": null,
            "left": null
          }
        },
        "d542948a9eff4c749eea897026ee992f": {
          "model_module": "@jupyter-widgets/controls",
          "model_name": "DescriptionStyleModel",
          "state": {
            "_view_name": "StyleView",
            "_model_name": "DescriptionStyleModel",
            "description_width": "",
            "_view_module": "@jupyter-widgets/base",
            "_model_module_version": "1.5.0",
            "_view_count": null,
            "_view_module_version": "1.2.0",
            "_model_module": "@jupyter-widgets/controls"
          }
        },
        "1852c431165b484ca0a0228611833344": {
          "model_module": "@jupyter-widgets/base",
          "model_name": "LayoutModel",
          "state": {
            "_view_name": "LayoutView",
            "grid_template_rows": null,
            "right": null,
            "justify_content": null,
            "_view_module": "@jupyter-widgets/base",
            "overflow": null,
            "_model_module_version": "1.2.0",
            "_view_count": null,
            "flex_flow": null,
            "width": null,
            "min_width": null,
            "border": null,
            "align_items": null,
            "bottom": null,
            "_model_module": "@jupyter-widgets/base",
            "top": null,
            "grid_column": null,
            "overflow_y": null,
            "overflow_x": null,
            "grid_auto_flow": null,
            "grid_area": null,
            "grid_template_columns": null,
            "flex": null,
            "_model_name": "LayoutModel",
            "justify_items": null,
            "grid_row": null,
            "max_height": null,
            "align_content": null,
            "visibility": null,
            "align_self": null,
            "height": null,
            "min_height": null,
            "padding": null,
            "grid_auto_rows": null,
            "grid_gap": null,
            "max_width": null,
            "order": null,
            "_view_module_version": "1.2.0",
            "grid_template_areas": null,
            "object_position": null,
            "object_fit": null,
            "grid_auto_columns": null,
            "margin": null,
            "display": null,
            "left": null
          }
        },
        "07bed817abda48d5ab465eb096bde69b": {
          "model_module": "@jupyter-widgets/controls",
          "model_name": "HBoxModel",
          "state": {
            "_view_name": "HBoxView",
            "_dom_classes": [],
            "_model_name": "HBoxModel",
            "_view_module": "@jupyter-widgets/controls",
            "_model_module_version": "1.5.0",
            "_view_count": null,
            "_view_module_version": "1.5.0",
            "box_style": "",
            "layout": "IPY_MODEL_3713a73128bd40a194e5b986ff3575c1",
            "_model_module": "@jupyter-widgets/controls",
            "children": [
              "IPY_MODEL_cba91245a2ec4ff19c85f04e17f3a9a2",
              "IPY_MODEL_1a12108c4364408680ec28c9ef4d3f48"
            ]
          }
        },
        "3713a73128bd40a194e5b986ff3575c1": {
          "model_module": "@jupyter-widgets/base",
          "model_name": "LayoutModel",
          "state": {
            "_view_name": "LayoutView",
            "grid_template_rows": null,
            "right": null,
            "justify_content": null,
            "_view_module": "@jupyter-widgets/base",
            "overflow": null,
            "_model_module_version": "1.2.0",
            "_view_count": null,
            "flex_flow": null,
            "width": null,
            "min_width": null,
            "border": null,
            "align_items": null,
            "bottom": null,
            "_model_module": "@jupyter-widgets/base",
            "top": null,
            "grid_column": null,
            "overflow_y": null,
            "overflow_x": null,
            "grid_auto_flow": null,
            "grid_area": null,
            "grid_template_columns": null,
            "flex": null,
            "_model_name": "LayoutModel",
            "justify_items": null,
            "grid_row": null,
            "max_height": null,
            "align_content": null,
            "visibility": null,
            "align_self": null,
            "height": null,
            "min_height": null,
            "padding": null,
            "grid_auto_rows": null,
            "grid_gap": null,
            "max_width": null,
            "order": null,
            "_view_module_version": "1.2.0",
            "grid_template_areas": null,
            "object_position": null,
            "object_fit": null,
            "grid_auto_columns": null,
            "margin": null,
            "display": null,
            "left": null
          }
        },
        "cba91245a2ec4ff19c85f04e17f3a9a2": {
          "model_module": "@jupyter-widgets/controls",
          "model_name": "IntProgressModel",
          "state": {
            "_view_name": "ProgressView",
            "style": "IPY_MODEL_87893c19b27e4625a0b5cbeb8fde6bb7",
            "_dom_classes": [],
            "description": "",
            "_model_name": "IntProgressModel",
            "bar_style": "success",
            "max": 10000,
            "_view_module": "@jupyter-widgets/controls",
            "_model_module_version": "1.5.0",
            "value": 10000,
            "_view_count": null,
            "_view_module_version": "1.5.0",
            "orientation": "horizontal",
            "min": 0,
            "description_tooltip": null,
            "_model_module": "@jupyter-widgets/controls",
            "layout": "IPY_MODEL_957d8cc85046442a8ddd47726d03f8d9"
          }
        },
        "1a12108c4364408680ec28c9ef4d3f48": {
          "model_module": "@jupyter-widgets/controls",
          "model_name": "HTMLModel",
          "state": {
            "_view_name": "HTMLView",
            "style": "IPY_MODEL_f1e73f12946540fab5f339865d4c89d2",
            "_dom_classes": [],
            "description": "",
            "_model_name": "HTMLModel",
            "placeholder": "​",
            "_view_module": "@jupyter-widgets/controls",
            "_model_module_version": "1.5.0",
            "value": "100% 10000/10000 [01:59&lt;00:00, 83.51it/s]",
            "_view_count": null,
            "_view_module_version": "1.5.0",
            "description_tooltip": null,
            "_model_module": "@jupyter-widgets/controls",
            "layout": "IPY_MODEL_363882e75ce84e9897aef9bbfd995888"
          }
        },
        "87893c19b27e4625a0b5cbeb8fde6bb7": {
          "model_module": "@jupyter-widgets/controls",
          "model_name": "ProgressStyleModel",
          "state": {
            "_view_name": "StyleView",
            "_model_name": "ProgressStyleModel",
            "description_width": "",
            "_view_module": "@jupyter-widgets/base",
            "_model_module_version": "1.5.0",
            "_view_count": null,
            "_view_module_version": "1.2.0",
            "bar_color": null,
            "_model_module": "@jupyter-widgets/controls"
          }
        },
        "957d8cc85046442a8ddd47726d03f8d9": {
          "model_module": "@jupyter-widgets/base",
          "model_name": "LayoutModel",
          "state": {
            "_view_name": "LayoutView",
            "grid_template_rows": null,
            "right": null,
            "justify_content": null,
            "_view_module": "@jupyter-widgets/base",
            "overflow": null,
            "_model_module_version": "1.2.0",
            "_view_count": null,
            "flex_flow": null,
            "width": null,
            "min_width": null,
            "border": null,
            "align_items": null,
            "bottom": null,
            "_model_module": "@jupyter-widgets/base",
            "top": null,
            "grid_column": null,
            "overflow_y": null,
            "overflow_x": null,
            "grid_auto_flow": null,
            "grid_area": null,
            "grid_template_columns": null,
            "flex": null,
            "_model_name": "LayoutModel",
            "justify_items": null,
            "grid_row": null,
            "max_height": null,
            "align_content": null,
            "visibility": null,
            "align_self": null,
            "height": null,
            "min_height": null,
            "padding": null,
            "grid_auto_rows": null,
            "grid_gap": null,
            "max_width": null,
            "order": null,
            "_view_module_version": "1.2.0",
            "grid_template_areas": null,
            "object_position": null,
            "object_fit": null,
            "grid_auto_columns": null,
            "margin": null,
            "display": null,
            "left": null
          }
        },
        "f1e73f12946540fab5f339865d4c89d2": {
          "model_module": "@jupyter-widgets/controls",
          "model_name": "DescriptionStyleModel",
          "state": {
            "_view_name": "StyleView",
            "_model_name": "DescriptionStyleModel",
            "description_width": "",
            "_view_module": "@jupyter-widgets/base",
            "_model_module_version": "1.5.0",
            "_view_count": null,
            "_view_module_version": "1.2.0",
            "_model_module": "@jupyter-widgets/controls"
          }
        },
        "363882e75ce84e9897aef9bbfd995888": {
          "model_module": "@jupyter-widgets/base",
          "model_name": "LayoutModel",
          "state": {
            "_view_name": "LayoutView",
            "grid_template_rows": null,
            "right": null,
            "justify_content": null,
            "_view_module": "@jupyter-widgets/base",
            "overflow": null,
            "_model_module_version": "1.2.0",
            "_view_count": null,
            "flex_flow": null,
            "width": null,
            "min_width": null,
            "border": null,
            "align_items": null,
            "bottom": null,
            "_model_module": "@jupyter-widgets/base",
            "top": null,
            "grid_column": null,
            "overflow_y": null,
            "overflow_x": null,
            "grid_auto_flow": null,
            "grid_area": null,
            "grid_template_columns": null,
            "flex": null,
            "_model_name": "LayoutModel",
            "justify_items": null,
            "grid_row": null,
            "max_height": null,
            "align_content": null,
            "visibility": null,
            "align_self": null,
            "height": null,
            "min_height": null,
            "padding": null,
            "grid_auto_rows": null,
            "grid_gap": null,
            "max_width": null,
            "order": null,
            "_view_module_version": "1.2.0",
            "grid_template_areas": null,
            "object_position": null,
            "object_fit": null,
            "grid_auto_columns": null,
            "margin": null,
            "display": null,
            "left": null
          }
        }
      }
    }
  },
  "cells": [
    {
      "cell_type": "markdown",
      "metadata": {
        "id": "2ZvRsKxerr_C",
        "colab_type": "text"
      },
      "source": [
        "# Homework 3: Word Embeddings\n",
        "\n",
        "The deadline for this assignment is **1:30 pm Feb 27, 2020**.   \n",
        "You should submit a `.ipynb` file with your solutions to NYU Classes.\n",
        "\n",
        "---\n",
        "\n",
        "In this homework assignment, we are going to tackle two different exercises involving word embeddings. First, we are going to explore the semantic orientation method to score words. Second, we will explore the effect of context sizes in building embeddings based on word cooccurrences.\n"
      ]
    },
    {
      "cell_type": "markdown",
      "metadata": {
        "id": "fRjB4n70e_Nv",
        "colab_type": "text"
      },
      "source": [
        "# Part 0: Setup"
      ]
    },
    {
      "cell_type": "code",
      "metadata": {
        "id": "qIT93qtzg7rA",
        "colab_type": "code",
        "colab": {
          "base_uri": "https://localhost:8080/",
          "height": 298
        },
        "outputId": "d3e380e4-7e75-4cbb-d64f-1dbd9184ef23"
      },
      "source": [
        "!pip install sacremoses"
      ],
      "execution_count": 1,
      "outputs": [
        {
          "output_type": "stream",
          "text": [
            "Collecting sacremoses\n",
            "\u001b[?25l  Downloading https://files.pythonhosted.org/packages/a6/b4/7a41d630547a4afd58143597d5a49e07bfd4c42914d8335b2a5657efc14b/sacremoses-0.0.38.tar.gz (860kB)\n",
            "\u001b[K     |████████████████████████████████| 870kB 2.8MB/s \n",
            "\u001b[?25hRequirement already satisfied: regex in /usr/local/lib/python3.6/dist-packages (from sacremoses) (2019.12.20)\n",
            "Requirement already satisfied: six in /usr/local/lib/python3.6/dist-packages (from sacremoses) (1.12.0)\n",
            "Requirement already satisfied: click in /usr/local/lib/python3.6/dist-packages (from sacremoses) (7.0)\n",
            "Requirement already satisfied: joblib in /usr/local/lib/python3.6/dist-packages (from sacremoses) (0.14.1)\n",
            "Requirement already satisfied: tqdm in /usr/local/lib/python3.6/dist-packages (from sacremoses) (4.28.1)\n",
            "Building wheels for collected packages: sacremoses\n",
            "  Building wheel for sacremoses (setup.py) ... \u001b[?25l\u001b[?25hdone\n",
            "  Created wheel for sacremoses: filename=sacremoses-0.0.38-cp36-none-any.whl size=884628 sha256=25cccd44e7c2bacee3fdbac82ac3d6eb4bcce0726ea554d24237e4e1d6c13be1\n",
            "  Stored in directory: /root/.cache/pip/wheels/6d/ec/1a/21b8912e35e02741306f35f66c785f3afe94de754a0eaf1422\n",
            "Successfully built sacremoses\n",
            "Installing collected packages: sacremoses\n",
            "Successfully installed sacremoses-0.0.38\n"
          ],
          "name": "stdout"
        }
      ]
    },
    {
      "cell_type": "code",
      "metadata": {
        "id": "Mv7TBcl5e_Nf",
        "colab_type": "code",
        "colab": {}
      },
      "source": [
        "import pandas as pd\n",
        "import numpy as np\n",
        "from sklearn.metrics.pairwise import cosine_similarity\n",
        "import sacremoses\n",
        "import tqdm\n",
        "import time\n",
        "from matplotlib import pyplot as plt\n",
        "%matplotlib inline"
      ],
      "execution_count": 0,
      "outputs": []
    },
    {
      "cell_type": "markdown",
      "metadata": {
        "id": "O0lWzIl3e_N1",
        "colab_type": "text"
      },
      "source": [
        "We're going load a set of 50D word vectors from GloVe. If you want to download other versions of GloVe, you can click [here](https://nlp.stanford.edu/projects/glove/)."
      ]
    },
    {
      "cell_type": "code",
      "metadata": {
        "id": "2INTutRPfCVn",
        "colab_type": "code",
        "colab": {
          "base_uri": "https://localhost:8080/",
          "height": 1000
        },
        "outputId": "b16a0035-d957-4ef8-f6be-e76ceeee54e9"
      },
      "source": [
        "!wget https://docs.google.com/uc?id=1si-rTb4nALWb-Wah5_tqbs9KXAwE3qhK -O glove.aa\n",
        "!wget https://docs.google.com/uc?id=1_XywxYH56-tHepqxpUfE-Y6xNQSZiu-7 -O glove.ab\n",
        "!wget https://docs.google.com/uc?id=1ISSLqQWL8EO8blT54RKahkDQhtmSp9ae -O glove.ac\n",
        "!wget https://docs.google.com/uc?id=1qHqCKLFO0Zdyhmb_ctd63aaFRLNGiDfB -O glove.ad\n",
        "!cat glove.?? > 'glove.6B.50d.txt'"
      ],
      "execution_count": 3,
      "outputs": [
        {
          "output_type": "stream",
          "text": [
            "--2020-02-27 16:07:02--  https://docs.google.com/uc?id=1si-rTb4nALWb-Wah5_tqbs9KXAwE3qhK\n",
            "Resolving docs.google.com (docs.google.com)... 173.194.217.138, 173.194.217.113, 173.194.217.100, ...\n",
            "Connecting to docs.google.com (docs.google.com)|173.194.217.138|:443... connected.\n",
            "HTTP request sent, awaiting response... 302 Moved Temporarily\n",
            "Location: https://doc-00-0g-docs.googleusercontent.com/docs/securesc/ha0ro937gcuc7l7deffksulhg5h7mbp1/crp3k21k6e9mfgsc5209r3o9b2f0057h/1582819650000/14514704803973256873/*/1si-rTb4nALWb-Wah5_tqbs9KXAwE3qhK [following]\n",
            "Warning: wildcards not supported in HTTP.\n",
            "--2020-02-27 16:07:32--  https://doc-00-0g-docs.googleusercontent.com/docs/securesc/ha0ro937gcuc7l7deffksulhg5h7mbp1/crp3k21k6e9mfgsc5209r3o9b2f0057h/1582819650000/14514704803973256873/*/1si-rTb4nALWb-Wah5_tqbs9KXAwE3qhK\n",
            "Resolving doc-00-0g-docs.googleusercontent.com (doc-00-0g-docs.googleusercontent.com)... 173.194.214.132, 2607:f8b0:400c:c0b::84\n",
            "Connecting to doc-00-0g-docs.googleusercontent.com (doc-00-0g-docs.googleusercontent.com)|173.194.214.132|:443... connected.\n",
            "HTTP request sent, awaiting response... 200 OK\n",
            "Length: unspecified [audio/audible]\n",
            "Saving to: ‘glove.aa’\n",
            "\n",
            "glove.aa                [   <=>              ]  50.00M  42.8MB/s    in 1.2s    \n",
            "\n",
            "2020-02-27 16:07:34 (42.8 MB/s) - ‘glove.aa’ saved [52428800]\n",
            "\n",
            "--2020-02-27 16:07:35--  https://docs.google.com/uc?id=1_XywxYH56-tHepqxpUfE-Y6xNQSZiu-7\n",
            "Resolving docs.google.com (docs.google.com)... 74.125.141.101, 74.125.141.102, 74.125.141.138, ...\n",
            "Connecting to docs.google.com (docs.google.com)|74.125.141.101|:443... connected.\n",
            "HTTP request sent, awaiting response... 302 Moved Temporarily\n",
            "Location: https://doc-08-0g-docs.googleusercontent.com/docs/securesc/ha0ro937gcuc7l7deffksulhg5h7mbp1/onfcis6j6bnkildis3u47sst1dsmcinv/1582819650000/14514704803973256873/*/1_XywxYH56-tHepqxpUfE-Y6xNQSZiu-7 [following]\n",
            "Warning: wildcards not supported in HTTP.\n",
            "--2020-02-27 16:07:37--  https://doc-08-0g-docs.googleusercontent.com/docs/securesc/ha0ro937gcuc7l7deffksulhg5h7mbp1/onfcis6j6bnkildis3u47sst1dsmcinv/1582819650000/14514704803973256873/*/1_XywxYH56-tHepqxpUfE-Y6xNQSZiu-7\n",
            "Resolving doc-08-0g-docs.googleusercontent.com (doc-08-0g-docs.googleusercontent.com)... 173.194.214.132, 2607:f8b0:400c:c0b::84\n",
            "Connecting to doc-08-0g-docs.googleusercontent.com (doc-08-0g-docs.googleusercontent.com)|173.194.214.132|:443... connected.\n",
            "HTTP request sent, awaiting response... 200 OK\n",
            "Length: unspecified [application/octet-stream]\n",
            "Saving to: ‘glove.ab’\n",
            "\n",
            "glove.ab                [  <=>               ]  50.00M   127MB/s    in 0.4s    \n",
            "\n",
            "2020-02-27 16:07:39 (127 MB/s) - ‘glove.ab’ saved [52428800]\n",
            "\n",
            "--2020-02-27 16:07:40--  https://docs.google.com/uc?id=1ISSLqQWL8EO8blT54RKahkDQhtmSp9ae\n",
            "Resolving docs.google.com (docs.google.com)... 74.125.141.101, 74.125.141.102, 74.125.141.139, ...\n",
            "Connecting to docs.google.com (docs.google.com)|74.125.141.101|:443... connected.\n",
            "HTTP request sent, awaiting response... 302 Moved Temporarily\n",
            "Location: https://doc-0g-0g-docs.googleusercontent.com/docs/securesc/ha0ro937gcuc7l7deffksulhg5h7mbp1/iaq36ott966mh04l4676lk8fkuhpjd95/1582819650000/14514704803973256873/*/1ISSLqQWL8EO8blT54RKahkDQhtmSp9ae [following]\n",
            "Warning: wildcards not supported in HTTP.\n",
            "--2020-02-27 16:07:43--  https://doc-0g-0g-docs.googleusercontent.com/docs/securesc/ha0ro937gcuc7l7deffksulhg5h7mbp1/iaq36ott966mh04l4676lk8fkuhpjd95/1582819650000/14514704803973256873/*/1ISSLqQWL8EO8blT54RKahkDQhtmSp9ae\n",
            "Resolving doc-0g-0g-docs.googleusercontent.com (doc-0g-0g-docs.googleusercontent.com)... 173.194.214.132, 2607:f8b0:400c:c0b::84\n",
            "Connecting to doc-0g-0g-docs.googleusercontent.com (doc-0g-0g-docs.googleusercontent.com)|173.194.214.132|:443... connected.\n",
            "HTTP request sent, awaiting response... 200 OK\n",
            "Length: unspecified [application/octet-stream]\n",
            "Saving to: ‘glove.ac’\n",
            "\n",
            "glove.ac                [   <=>              ]  50.00M  31.5MB/s    in 1.6s    \n",
            "\n",
            "2020-02-27 16:07:45 (31.5 MB/s) - ‘glove.ac’ saved [52428800]\n",
            "\n",
            "--2020-02-27 16:07:46--  https://docs.google.com/uc?id=1qHqCKLFO0Zdyhmb_ctd63aaFRLNGiDfB\n",
            "Resolving docs.google.com (docs.google.com)... 172.217.203.101, 172.217.203.102, 172.217.203.138, ...\n",
            "Connecting to docs.google.com (docs.google.com)|172.217.203.101|:443... connected.\n",
            "HTTP request sent, awaiting response... 302 Moved Temporarily\n",
            "Location: https://doc-0o-0g-docs.googleusercontent.com/docs/securesc/ha0ro937gcuc7l7deffksulhg5h7mbp1/jfg46pmfs3c1bor65igkigpie3784h5h/1582819650000/14514704803973256873/*/1qHqCKLFO0Zdyhmb_ctd63aaFRLNGiDfB [following]\n",
            "Warning: wildcards not supported in HTTP.\n",
            "--2020-02-27 16:07:48--  https://doc-0o-0g-docs.googleusercontent.com/docs/securesc/ha0ro937gcuc7l7deffksulhg5h7mbp1/jfg46pmfs3c1bor65igkigpie3784h5h/1582819650000/14514704803973256873/*/1qHqCKLFO0Zdyhmb_ctd63aaFRLNGiDfB\n",
            "Resolving doc-0o-0g-docs.googleusercontent.com (doc-0o-0g-docs.googleusercontent.com)... 173.194.214.132, 2607:f8b0:400c:c0b::84\n",
            "Connecting to doc-0o-0g-docs.googleusercontent.com (doc-0o-0g-docs.googleusercontent.com)|173.194.214.132|:443... connected.\n",
            "HTTP request sent, awaiting response... 200 OK\n",
            "Length: unspecified [application/octet-stream]\n",
            "Saving to: ‘glove.ad’\n",
            "\n",
            "glove.ad                [  <=>               ]  13.41M  40.7MB/s    in 0.3s    \n",
            "\n",
            "2020-02-27 16:07:49 (40.7 MB/s) - ‘glove.ad’ saved [14063679]\n",
            "\n"
          ],
          "name": "stdout"
        }
      ]
    },
    {
      "cell_type": "markdown",
      "metadata": {
        "id": "1t4crjzWsOpp",
        "colab_type": "text"
      },
      "source": [
        "We'll load the GloVe embeddings similar to previous labs. `words_to_load` specifies how many word vectors we want to load. The words are saved in frequency order, so specifying 50,000 means that we only want to work with the 50,000 most frequent words from the source corpus."
      ]
    },
    {
      "cell_type": "code",
      "metadata": {
        "id": "H1MqtauHe_N4",
        "colab_type": "code",
        "colab": {
          "base_uri": "https://localhost:8080/",
          "height": 34
        },
        "outputId": "97ba3339-5254-4007-f74f-b1565f990f03"
      },
      "source": [
        "words_to_load = 50000\n",
        "\n",
        "with open('./glove.6B.50d.txt') as f:\n",
        "    loaded_embeddings = np.zeros((words_to_load, 50))\n",
        "    words_to_index = {}\n",
        "    ordered_words = []\n",
        "    for i, line in enumerate(f):\n",
        "        if i >= words_to_load: \n",
        "            break\n",
        "        \n",
        "        s = line.split()\n",
        "        loaded_embeddings[i, :] = np.asarray(s[1:])\n",
        "        words_to_index[s[0]] = i\n",
        "        ordered_words.append(s[0])\n",
        "print(\"GloVe loaded\")"
      ],
      "execution_count": 4,
      "outputs": [
        {
          "output_type": "stream",
          "text": [
            "GloVe loaded\n"
          ],
          "name": "stdout"
        }
      ]
    },
    {
      "cell_type": "markdown",
      "metadata": {
        "id": "O_SUYoKFe_OB",
        "colab_type": "text"
      },
      "source": [
        "Let's look at the embedding for the word \"potato\"."
      ]
    },
    {
      "cell_type": "code",
      "metadata": {
        "id": "A_wdFWAXe_ON",
        "colab_type": "code",
        "colab": {
          "base_uri": "https://localhost:8080/",
          "height": 173
        },
        "outputId": "fe70ef13-7341-4a54-8aab-966b27b40a96"
      },
      "source": [
        "loaded_embeddings[words_to_index['potato']]"
      ],
      "execution_count": 5,
      "outputs": [
        {
          "output_type": "execute_result",
          "data": {
            "text/plain": [
              "array([-0.063054, -0.62636 , -0.76417 , -0.041484,  0.56284 ,  0.86432 ,\n",
              "       -0.73734 , -0.70925 , -0.073065, -0.74619 , -0.34769 ,  0.14402 ,\n",
              "        1.4576  ,  0.034688,  0.11224 ,  0.13854 ,  0.10484 ,  0.60207 ,\n",
              "        0.021777, -0.21802 ,  0.087613, -1.4234  ,  1.0361  ,  0.1509  ,\n",
              "        0.13608 , -0.2971  , -0.90828 ,  0.34182 ,  1.3367  ,  0.16329 ,\n",
              "        1.2374  , -0.20113 , -0.91532 ,  1.4222  , -0.1276  ,  0.69443 ,\n",
              "       -1.1782  ,  1.2072  ,  1.0524  , -0.11957 , -0.1275  ,  0.41798 ,\n",
              "       -0.9232  , -0.1312  ,  1.2696  ,  1.2318  ,  0.30061 , -0.18854 ,\n",
              "        0.15899 ,  0.0486  ])"
            ]
          },
          "metadata": {
            "tags": []
          },
          "execution_count": 5
        }
      ]
    },
    {
      "cell_type": "markdown",
      "metadata": {
        "id": "lqeYUGvJe_OW",
        "colab_type": "text"
      },
      "source": [
        "# Part 1: The Semantic Orientation Method [40]"
      ]
    },
    {
      "cell_type": "markdown",
      "metadata": {
        "id": "iTvdJ39Fe_OZ",
        "colab_type": "text"
      },
      "source": [
        "The __semantic orientation__ method of [Turney and Littman 2003](http://doi.acm.org/10.1145/944012.944013) is a method for automatically scoring words along some single semantic dimension like sentiment. It works from a pair of small seed sets of words that represent two opposing points on that dimension.\n",
        "\n",
        "*Some code in this section was adapted from Stanford CS 224U*"
      ]
    },
    {
      "cell_type": "markdown",
      "metadata": {
        "id": "EK48UHrke_Oc",
        "colab_type": "text"
      },
      "source": [
        "Here's a sample pair of seed sets:"
      ]
    },
    {
      "cell_type": "code",
      "metadata": {
        "id": "xtlIac9Ge_Oe",
        "colab_type": "code",
        "colab": {}
      },
      "source": [
        "positive_words = ['good', 'great', 'awesome', 'like', 'love']\n",
        "negative_words = ['bad', 'awful', 'terrible', 'hate', 'dislike']"
      ],
      "execution_count": 0,
      "outputs": []
    },
    {
      "cell_type": "code",
      "metadata": {
        "id": "hXaolKIIe_Ok",
        "colab_type": "code",
        "colab": {}
      },
      "source": [
        "class SemanticOrientation:\n",
        "    \n",
        "    def __init__(self, seed_pos, seed_neg):\n",
        "        \"\"\"\n",
        "        args: \n",
        "            - seed_pos: list of 'positive' words\n",
        "            - seed_neg: list of 'negative' words\n",
        "        \"\"\"\n",
        "        self.seed_pos = seed_pos\n",
        "        self.seed_neg = seed_neg\n",
        "        seed_pos_indices = [words_to_index[seed] for seed in seed_pos]\n",
        "        seed_neg_indices = [words_to_index[seed] for seed in seed_neg]\n",
        "        \n",
        "        # Get matrices of embeddings for positive and negative words\n",
        "        self.seed_pos_mat = loaded_embeddings[seed_pos_indices]\n",
        "        self.seed_neg_mat = loaded_embeddings[seed_neg_indices]\n",
        "        \n",
        "    def determine_coefficient(self, candidate_words):\n",
        "        \"\"\"\n",
        "        args:\n",
        "            - candidate_words: single word, or list of words\n",
        "        \"\"\"\n",
        "        \n",
        "        # Optionally handle a single word\n",
        "        one_word = isinstance(candidate_words, str)\n",
        "        if one_word:\n",
        "            candidate_words = [candidate_words]\n",
        "\n",
        "        # Retrieve matrix of embeddings for candidate words\n",
        "        candidates_mat = np.array([\n",
        "            loaded_embeddings[words_to_index[candidate_word]]\n",
        "            for candidate_word in candidate_words\n",
        "        ])\n",
        "        # Compute the cosine similarity between the seed word and \n",
        "        #   the candidate word embeddings, and average\n",
        "        pos_sim = cosine_similarity(self.seed_pos_mat, candidates_mat).mean(axis=0)\n",
        "        neg_sim = cosine_similarity(self.seed_neg_mat, candidates_mat).mean(axis=0)\n",
        "        # Compute the difference between the average positive and negative similarities\n",
        "        diff = pos_sim - neg_sim\n",
        "\n",
        "        if one_word:\n",
        "            return diff[0]\n",
        "        else:\n",
        "            return diff"
      ],
      "execution_count": 0,
      "outputs": []
    },
    {
      "cell_type": "code",
      "metadata": {
        "id": "B8ho1OPve_Or",
        "colab_type": "code",
        "colab": {}
      },
      "source": [
        "sentiment_so = SemanticOrientation(\n",
        "    seed_pos=positive_words,\n",
        "    seed_neg=negative_words,\n",
        ")"
      ],
      "execution_count": 0,
      "outputs": []
    },
    {
      "cell_type": "markdown",
      "metadata": {
        "id": "iCokxNHHe_Oy",
        "colab_type": "text"
      },
      "source": [
        "Let's get the coefficients of some words and see if it lines up with our intuition."
      ]
    },
    {
      "cell_type": "code",
      "metadata": {
        "scrolled": true,
        "id": "MgIfflYpe_O0",
        "colab_type": "code",
        "colab": {
          "base_uri": "https://localhost:8080/",
          "height": 34
        },
        "outputId": "09d59b43-f11f-477d-f61c-fe5af9eeb09d"
      },
      "source": [
        "sentiment_so.determine_coefficient('abhorrent')"
      ],
      "execution_count": 9,
      "outputs": [
        {
          "output_type": "execute_result",
          "data": {
            "text/plain": [
              "-0.2712170238375182"
            ]
          },
          "metadata": {
            "tags": []
          },
          "execution_count": 9
        }
      ]
    },
    {
      "cell_type": "code",
      "metadata": {
        "id": "qnCoEmT4e_O6",
        "colab_type": "code",
        "colab": {
          "base_uri": "https://localhost:8080/",
          "height": 34
        },
        "outputId": "0a7a18be-aaab-426f-f670-c30f2a4a6e58"
      },
      "source": [
        "sentiment_so.determine_coefficient('excellent')"
      ],
      "execution_count": 10,
      "outputs": [
        {
          "output_type": "execute_result",
          "data": {
            "text/plain": [
              "0.2816580407857993"
            ]
          },
          "metadata": {
            "tags": []
          },
          "execution_count": 10
        }
      ]
    },
    {
      "cell_type": "code",
      "metadata": {
        "id": "u7s5-BXFe_O_",
        "colab_type": "code",
        "colab": {
          "base_uri": "https://localhost:8080/",
          "height": 34
        },
        "outputId": "035358f3-8493-4a27-a4f5-0e271a840273"
      },
      "source": [
        "sentiment_so.determine_coefficient('amazing')"
      ],
      "execution_count": 11,
      "outputs": [
        {
          "output_type": "execute_result",
          "data": {
            "text/plain": [
              "0.2068293944473673"
            ]
          },
          "metadata": {
            "tags": []
          },
          "execution_count": 11
        }
      ]
    },
    {
      "cell_type": "code",
      "metadata": {
        "id": "utlgXcWee_PH",
        "colab_type": "code",
        "colab": {
          "base_uri": "https://localhost:8080/",
          "height": 34
        },
        "outputId": "189a60ee-2ff8-4472-8f5f-8bbfac3a5933"
      },
      "source": [
        "sentiment_so.determine_coefficient('okay')"
      ],
      "execution_count": 12,
      "outputs": [
        {
          "output_type": "execute_result",
          "data": {
            "text/plain": [
              "-0.011928961401575844"
            ]
          },
          "metadata": {
            "tags": []
          },
          "execution_count": 12
        }
      ]
    },
    {
      "cell_type": "code",
      "metadata": {
        "id": "zSjJ6ceRe_PO",
        "colab_type": "code",
        "colab": {
          "base_uri": "https://localhost:8080/",
          "height": 34
        },
        "outputId": "7a02366a-8905-41a0-e938-8581aef03fe3"
      },
      "source": [
        "sentiment_so.determine_coefficient('atrocious')"
      ],
      "execution_count": 13,
      "outputs": [
        {
          "output_type": "execute_result",
          "data": {
            "text/plain": [
              "-0.2749609244690855"
            ]
          },
          "metadata": {
            "tags": []
          },
          "execution_count": 13
        }
      ]
    },
    {
      "cell_type": "code",
      "metadata": {
        "id": "qm3h-qP29ttp",
        "colab_type": "code",
        "colab": {}
      },
      "source": [
        "def scatter_and_annotate(ax, x_values, y_values, labels, color):\n",
        "    ax.scatter(x_values, y_values, color=color)\n",
        "    for i, label in enumerate(labels):\n",
        "        ax.text(x_values[i], y_values[i], label, rotation=45)\n",
        "\n",
        "def plot_semantic_orientation(semantic_orientation, words):\n",
        "    fig = plt.figure(figsize=(8, 4))\n",
        "    ax = fig.gca()\n",
        "    x_values = semantic_orientation.determine_coefficient(semantic_orientation.seed_pos) \n",
        "    x_values = semantic_orientation.determine_coefficient(semantic_orientation.seed_pos) \n",
        "\n",
        "    scatter_and_annotate(\n",
        "        ax=ax,\n",
        "        x_values=semantic_orientation.determine_coefficient(semantic_orientation.seed_pos),\n",
        "        y_values=[0] * len(semantic_orientation.seed_pos),\n",
        "        labels=semantic_orientation.seed_pos,\n",
        "        color=\"blue\",\n",
        "    )\n",
        "    scatter_and_annotate(\n",
        "        ax=ax,\n",
        "        x_values=semantic_orientation.determine_coefficient(semantic_orientation.seed_neg),\n",
        "        y_values=[0] * len(semantic_orientation.seed_neg),\n",
        "        labels=semantic_orientation.seed_neg,\n",
        "        color=\"red\",\n",
        "    )\n",
        "    ax.axhline(0, color=\"gray\")\n",
        "\n",
        "    scatter_and_annotate(\n",
        "        ax=ax,\n",
        "        x_values=semantic_orientation.determine_coefficient(words),\n",
        "        y_values=[-2] * len(words),\n",
        "        labels=words,\n",
        "        color=\"purple\",\n",
        "    )\n",
        "    ax.axhline(-2, color=\"black\")\n",
        "    ax.set_ylim(-2.5, 1)\n",
        "    ax.set_yticks([-2, 0])\n",
        "    ax.set_yticklabels([\"words\", \"seed\"])"
      ],
      "execution_count": 0,
      "outputs": []
    },
    {
      "cell_type": "code",
      "metadata": {
        "id": "R6eXvmqT9GAx",
        "colab_type": "code",
        "colab": {
          "base_uri": "https://localhost:8080/",
          "height": 265
        },
        "outputId": "38f4bad9-4d38-4378-b601-95d4ff59e56a"
      },
      "source": [
        "plot_semantic_orientation(\n",
        "    semantic_orientation=sentiment_so, \n",
        "    words=[\"abhorrent\", \"excellent\", \"amazing\", \"okay\", \"atrocious\"],\n",
        ")"
      ],
      "execution_count": 15,
      "outputs": [
        {
          "output_type": "display_data",
          "data": {
            "image/png": "[encoded data removed]",
            "text/plain": [
              "<Figure size 576x288 with 1 Axes>"
            ]
          },
          "metadata": {
            "tags": []
          }
        }
      ]
    },
    {
      "cell_type": "markdown",
      "metadata": {
        "id": "GAXq32WIe_PU",
        "colab_type": "text"
      },
      "source": [
        "And sort our vocabulary by its score along the axis. For now, we're only scoring frequent words, since this process can be slow."
      ]
    },
    {
      "cell_type": "markdown",
      "metadata": {
        "id": "kIXIX_LLApL5",
        "colab_type": "text"
      },
      "source": [
        "### Question 1.1 [10]\n",
        "\n",
        "Using `sentiment_so`, compute the coefficients of all `ordered_words` and show the 10 most positive and 10 most negative words."
      ]
    },
    {
      "cell_type": "code",
      "metadata": {
        "id": "RX3HSrbfe_PV",
        "colab_type": "code",
        "colab": {
          "base_uri": "https://localhost:8080/",
          "height": 416
        },
        "outputId": "a59cde87-0bde-4f95-b9bd-8b33474f679e"
      },
      "source": [
        "coefficients = sentiment_so.determine_coefficient(ordered_words)\n",
        "#print(coefficients)\n",
        "#saves the indices that would sort the array\n",
        "sorted_idx = np.argsort(coefficients)\n",
        "most_pos_idx = list(reversed(sorted_idx[-10:]))\n",
        "most_neg_idx = sorted_idx[:10]\n",
        "#print(most_pos_idx)\n",
        "#print(sortedidx[:10])\n",
        "print(\"10 Most Positive Words\")\n",
        "for i in most_pos_idx:\n",
        "  print('{} {}'.format(ordered_words[i], sentiment_so.determine_coefficient(ordered_words[i])))\n",
        "print(\"\\n10 Most Negative Words\")\n",
        "for i in most_neg_idx:\n",
        "  print('{} {}'.format(ordered_words[i], sentiment_so.determine_coefficient(ordered_words[i])))"
      ],
      "execution_count": 16,
      "outputs": [
        {
          "output_type": "stream",
          "text": [
            "10 Most Positive Words\n",
            "golden 0.33263586144652757\n",
            "alongside 0.32200074126096445\n",
            "famed 0.3178616673309422\n",
            "award 0.3157114669256115\n",
            "named 0.31222885578136966\n",
            "pioneer 0.31056838024419214\n",
            "star 0.3061240814740203\n",
            "eagle 0.30561208727286626\n",
            "diamond 0.3048825245002597\n",
            "master 0.30408689583284765\n",
            "\n",
            "10 Most Negative Words\n",
            "deplore -0.3565170751848865\n",
            "inaction -0.3524494477047235\n",
            "mongering -0.3422516884864451\n",
            "cautioning -0.3399596672181547\n",
            "inexcusable -0.32908359139336263\n",
            "malfeasance -0.3231511798597608\n",
            "avoidable -0.3224621869649757\n",
            "complicit -0.32215348390192367\n",
            "profiteering -0.3124730512161848\n",
            "unjustifiable -0.3123729282369386\n"
          ],
          "name": "stdout"
        }
      ]
    },
    {
      "cell_type": "markdown",
      "metadata": {
        "id": "G7x_GhEge_Ph",
        "colab_type": "text"
      },
      "source": [
        "### Question 1.2 [30]\n",
        "\n",
        "1. Create another `SemanticOrientation` object with a different set of contrasting \"positive\" and \"negative\" categories that are unrelated to sentiment (e.g solids vs. liquids, living things vs objects) and corresponding seed words. Have at least 5 words per category.\n",
        "2. Pick another 5 words in either category and show their coefficients. Display them using the plotting code from above.\n",
        "3. Using `ordered_words`, show the 10 most positive and 10 most \"negative\" words.\n",
        "4. Pick 2 words that are unrelated to either category, compute their coefficients, and comment on them."
      ]
    },
    {
      "cell_type": "code",
      "metadata": {
        "id": "VsQhgLeae_Pi",
        "colab_type": "code",
        "colab": {
          "base_uri": "https://localhost:8080/",
          "height": 925
        },
        "outputId": "a6fb1219-2eab-4677-d9eb-3e7752475eef"
      },
      "source": [
        "\"\"\"\n",
        "1. Create another SemanticOrientation object with a different set of \n",
        "contrasting \"positive\" and \"negative\" categories that are unrelated to \n",
        "sentiment and corresponding seed words. Have at least 5 words per category.\n",
        "\"\"\"\n",
        "# Tech Companies\n",
        "pos_words = ['facebook','twitter','microsoft','google','amazon']\n",
        "# Vegetables\n",
        "neg_words = ['asparagus','broccoli','carrot','eggplant','mushroom']\n",
        "new_sentiment_so = SemanticOrientation(\n",
        "    seed_pos=pos_words,\n",
        "    seed_neg=neg_words,\n",
        ")\n",
        "\"\"\"\n",
        "2. Pick another 5 words in either category and show their coefficients. \n",
        "Display them using the plotting code from above.\n",
        "\"\"\"\n",
        "print('2.')\n",
        "mixed_words = ['adobe','cucumber','cauliflower','intel','artichoke']\n",
        "for word in mixed_words:\n",
        "  print('Word: {} | Coefficient: {}'.format(word, new_sentiment_so.determine_coefficient(word)))\n",
        "plot_semantic_orientation(\n",
        "    semantic_orientation=new_sentiment_so, \n",
        "    words=mixed_words,\n",
        ")\n",
        "\"\"\" \n",
        "3. Using ordered_words, show the 10 most positive and 10 most \"negative\" words.\n",
        "\"\"\"\n",
        "print('\\n3.')\n",
        "coefficients = new_sentiment_so.determine_coefficient(ordered_words)\n",
        "sorted_idx = np.argsort(coefficients)\n",
        "most_pos_idx = list(reversed(sorted_idx[-10:]))\n",
        "most_neg_idx = sorted_idx[:10]\n",
        "print(\"10 Most Positive Words\")\n",
        "for i in most_pos_idx:\n",
        "  print('{} {}'.format(ordered_words[i], new_sentiment_so.determine_coefficient(ordered_words[i])))\n",
        "print(\"\\n10 Most Negative Words\")\n",
        "for i in most_neg_idx:\n",
        "  print('{} {}'.format(ordered_words[i], new_sentiment_so.determine_coefficient(ordered_words[i])))\n",
        "\"\"\"\n",
        "4. Pick 2 words that are unrelated to either category, compute their \n",
        "coefficients, and comment on them.\n",
        "\"\"\"\n",
        "print('\\n4.')\n",
        "unrelated = ['elephant','surgery']\n",
        "print(\"Unrelated Words\")\n",
        "for word in unrelated:\n",
        "  print('Word: {} | Coefficient: {}'.format(word, new_sentiment_so.determine_coefficient(word)))\n",
        "print(\"It makes sense that their coefficients are close to zero, because they \\ndon't belong to either category, so the object is just labelling them as neutral \")"
      ],
      "execution_count": 17,
      "outputs": [
        {
          "output_type": "stream",
          "text": [
            "2.\n",
            "Word: adobe | Coefficient: 0.29388576781656284\n",
            "Word: cucumber | Coefficient: -0.827306379283699\n",
            "Word: cauliflower | Coefficient: -0.8617425342247305\n",
            "Word: intel | Coefficient: 0.5597790536411843\n",
            "Word: artichoke | Coefficient: -0.7372649423085011\n",
            "\n",
            "3.\n",
            "10 Most Positive Words\n",
            "facebook 0.8875667378441111\n",
            "myspace 0.8629851142654488\n",
            "google 0.8578915446460147\n",
            "msn 0.8343381723414937\n",
            "aol 0.8197347677824961\n",
            "internet 0.7910856581570861\n",
            "yahoo 0.7846055382630022\n",
            "microsoft 0.765593201052489\n",
            "napster 0.765016002330591\n",
            "twitter 0.7594057924826022\n",
            "\n",
            "10 Most Negative Words\n",
            "sauteed -0.9827165336684855\n",
            "eggplant -0.9475348674432386\n",
            "pickled -0.944335568038487\n",
            "marinated -0.9388749716657999\n",
            "asparagus -0.909797859675458\n",
            "vinaigrette -0.9050151533286315\n",
            "braised -0.8916586853135058\n",
            "arugula -0.8911357134849709\n",
            "artichokes -0.8727507605372331\n",
            "zucchini -0.8651900734258323\n",
            "\n",
            "4.\n",
            "Unrelated Words\n",
            "Word: elephant | Coefficient: -0.10261411340724953\n",
            "Word: surgery | Coefficient: -0.044569761150165754\n",
            "It makes sense that their coefficients are close to zero, because they \n",
            "don't belong to either category, so the object is just labelling them as neutral \n"
          ],
          "name": "stdout"
        },
        {
          "output_type": "display_data",
          "data": {
            "image/png": "[encoded data removed]",
            "text/plain": [
              "<Figure size 576x288 with 1 Axes>"
            ]
          },
          "metadata": {
            "tags": []
          }
        }
      ]
    },
    {
      "cell_type": "markdown",
      "metadata": {
        "id": "CxO7owlte_Py",
        "colab_type": "text"
      },
      "source": [
        "# Part 2: Exploring effect of context size [60 pts]"
      ]
    },
    {
      "cell_type": "markdown",
      "metadata": {
        "id": "qaVVYaUbe_P0",
        "colab_type": "text"
      },
      "source": [
        "Let's take a step back and assume we are creating word embeddings from scratch.\n",
        "\n",
        "We face many implicit and explicit design decisions in creating distributional word representations. In lecture, we discussed creating vectors using a co-occurence matrix built on neighboring pairs of words. We might suspect, however, that we can get more signal of word similarity by considering larger contexts than pairs of words."
      ]
    },
    {
      "cell_type": "markdown",
      "metadata": {
        "id": "Vpwg6x8xs9bP",
        "colab_type": "text"
      },
      "source": [
        "We're going to download two files:\n",
        "\n",
        "1. `sst.txt`, a list of sentences from the [Stanford Sentiment Treebank](https://nlp.stanford.edu/sentiment/treebank.html).\n",
        "2. `MTURK-771.csv`, a [word-relatedness dataset](http://www2.mta.ac.il/~gideon/mturk771.html)."
      ]
    },
    {
      "cell_type": "code",
      "metadata": {
        "id": "7kE54j3Hs98q",
        "colab_type": "code",
        "colab": {
          "base_uri": "https://localhost:8080/",
          "height": 523
        },
        "outputId": "4df2bc60-e7d7-419a-a616-22885f9158ac"
      },
      "source": [
        "!wget https://docs.google.com/uc?id=1uDpAm-eoZx-kS7UAPELfH0gGAxekkDVd -O sst.txt\n",
        "!wget http://www2.mta.ac.il/~gideon/datasets/MTURK-771.csv -O MTURK-771.csv"
      ],
      "execution_count": 18,
      "outputs": [
        {
          "output_type": "stream",
          "text": [
            "--2020-02-27 16:10:33--  https://docs.google.com/uc?id=1uDpAm-eoZx-kS7UAPELfH0gGAxekkDVd\n",
            "Resolving docs.google.com (docs.google.com)... 74.125.141.102, 74.125.141.113, 74.125.141.100, ...\n",
            "Connecting to docs.google.com (docs.google.com)|74.125.141.102|:443... connected.\n",
            "HTTP request sent, awaiting response... 302 Moved Temporarily\n",
            "Location: https://doc-00-0g-docs.googleusercontent.com/docs/securesc/ha0ro937gcuc7l7deffksulhg5h7mbp1/6kckalshkso7cnrl00lrfarrjhd193fs/1582819800000/14514704803973256873/*/1uDpAm-eoZx-kS7UAPELfH0gGAxekkDVd [following]\n",
            "Warning: wildcards not supported in HTTP.\n",
            "--2020-02-27 16:10:35--  https://doc-00-0g-docs.googleusercontent.com/docs/securesc/ha0ro937gcuc7l7deffksulhg5h7mbp1/6kckalshkso7cnrl00lrfarrjhd193fs/1582819800000/14514704803973256873/*/1uDpAm-eoZx-kS7UAPELfH0gGAxekkDVd\n",
            "Resolving doc-00-0g-docs.googleusercontent.com (doc-00-0g-docs.googleusercontent.com)... 173.194.214.132, 2607:f8b0:400c:c0b::84\n",
            "Connecting to doc-00-0g-docs.googleusercontent.com (doc-00-0g-docs.googleusercontent.com)|173.194.214.132|:443... connected.\n",
            "HTTP request sent, awaiting response... 200 OK\n",
            "Length: 1290263 (1.2M) [text/plain]\n",
            "Saving to: ‘sst.txt’\n",
            "\n",
            "sst.txt             100%[===================>]   1.23M  --.-KB/s    in 0.01s   \n",
            "\n",
            "2020-02-27 16:10:35 (125 MB/s) - ‘sst.txt’ saved [1290263/1290263]\n",
            "\n",
            "--2020-02-27 16:10:36--  http://www2.mta.ac.il/~gideon/datasets/MTURK-771.csv\n",
            "Resolving www2.mta.ac.il (www2.mta.ac.il)... 192.116.64.52\n",
            "Connecting to www2.mta.ac.il (www2.mta.ac.il)|192.116.64.52|:80... connected.\n",
            "HTTP request sent, awaiting response... 200 OK\n",
            "Length: 19629 (19K) [text/csv]\n",
            "Saving to: ‘MTURK-771.csv’\n",
            "\n",
            "MTURK-771.csv       100%[===================>]  19.17K   120KB/s    in 0.2s    \n",
            "\n",
            "2020-02-27 16:10:37 (120 KB/s) - ‘MTURK-771.csv’ saved [19629/19629]\n",
            "\n"
          ],
          "name": "stdout"
        }
      ]
    },
    {
      "cell_type": "code",
      "metadata": {
        "id": "aUXiGZ1Ie_P3",
        "colab_type": "code",
        "colab": {}
      },
      "source": [
        "mturk_path = \"./MTURK-771.csv\"\n",
        "sst_path = \"./sst.txt\""
      ],
      "execution_count": 0,
      "outputs": []
    },
    {
      "cell_type": "markdown",
      "metadata": {
        "id": "mqh5wfjHNb91",
        "colab_type": "text"
      },
      "source": [
        "First, we will load the SST data."
      ]
    },
    {
      "cell_type": "code",
      "metadata": {
        "id": "cM4zMwY9NaPp",
        "colab_type": "code",
        "colab": {
          "base_uri": "https://localhost:8080/",
          "height": 66,
          "referenced_widgets": [
            "0e6a245f96cc46f2940e19626a26e680",
            "cd7f5be150204db893a096b4f765f1bb",
            "34e7fda7a35742339905cff355729aac",
            "afae6fcd353f402a8ad23260e9935754",
            "1d2fdf0b7de348439e285d5e34c6ec39",
            "dcbeb439d6724a30968a630fba86ba08",
            "2763b39e8e4e4406872ce5ee88999604",
            "47ebf42225ed474e841eff60f78dc15b"
          ]
        },
        "outputId": "0c832451-f0d5-4b07-9ba3-4c5799c0c326"
      },
      "source": [
        "def load_sst(sst_path):\n",
        "    tokenizer = sacremoses.MosesTokenizer()\n",
        "    results = []\n",
        "    for line in tqdm.tqdm_notebook(pd.read_csv(sst_path, sep=\"\\t\")[\"sentence\"].values):\n",
        "        results.append(tokenizer.tokenize(line))\n",
        "    return results\n",
        "data = load_sst(sst_path)"
      ],
      "execution_count": 20,
      "outputs": [
        {
          "output_type": "display_data",
          "data": {
            "application/vnd.jupyter.widget-view+json": {
              "model_id": "0e6a245f96cc46f2940e19626a26e680",
              "version_minor": 0,
              "version_major": 2
            },
            "text/plain": [
              "HBox(children=(IntProgress(value=0, max=11855), HTML(value='')))"
            ]
          },
          "metadata": {
            "tags": []
          }
        },
        {
          "output_type": "stream",
          "text": [
            "\n"
          ],
          "name": "stdout"
        }
      ]
    },
    {
      "cell_type": "markdown",
      "metadata": {
        "id": "B4ncGmpye_P1",
        "colab_type": "text"
      },
      "source": [
        "### Question 2.1 [45]\n",
        "\n",
        "Implement:\n",
        "* `get_token_frequencies_and_cooccurrences`\n",
        "* `prune_vocabulary`\n",
        "* `build_cooccurrence_mat_from_counts`\n",
        "\n",
        "Each of these will be used in  `build_cooccurrence_matrix`, which generates the co-occurence matrix for a window of arbitrary size and for the vocabulary of `max_vocab_size` most frequent words. "
      ]
    },
    {
      "cell_type": "code",
      "metadata": {
        "id": "nGMhTNM5NM5j",
        "colab_type": "code",
        "colab": {}
      },
      "source": [
        "def build_cooccurrence_matrix(data, max_vocab_size=20000, context_size=2, verbose=True):\n",
        "    \"\"\" \n",
        "    args:\n",
        "        - data: iterable where each item is a string sentence\n",
        "        - max_vocab_size: maximum vocabulary size\n",
        "        \n",
        "    returns:\n",
        "        - coocur_mat: co-occurrence matrix as a numpy array\n",
        "    \"\"\"\n",
        "    if verbose:\n",
        "        print(\"Counting words...\")\n",
        "    start_time = time.time()\n",
        "    tok2freq, cooccur_counts = get_token_frequencies_and_cooccurrences(data, context_size)\n",
        "    if verbose:\n",
        "        print(\"\\tFinished counting %d words in %.5f\" % (len(tok2freq), time.time() - start_time))\n",
        "        print(\"Pruning vocabulary...\")\n",
        "    tok2idx, idx2tok = prune_vocabulary(tok2freq, max_vocab_size)\n",
        "    start_time = time.time()\n",
        "    if verbose:\n",
        "        print(\"\\tFinished pruning vocabulary to %d words in %.5f\" % (len(tok2idx), time.time() - start_time))\n",
        "        print(\"Building co-occurrence matrix...\")\n",
        "    start_time = time.time()\n",
        "    cooccur_mat = build_cooccurrence_mat_from_counts(idx2tok, cooccur_counts)\n",
        "    if verbose:\n",
        "        print(\"\\tFinished building co-occurrence matrix in %.5f\" % (time.time() - start_time))\n",
        "    return cooccur_mat, tok2idx, idx2tok, cooccur_counts"
      ],
      "execution_count": 0,
      "outputs": []
    },
    {
      "cell_type": "code",
      "metadata": {
        "colab_type": "code",
        "id": "ai5pnuntGjFz",
        "colab": {}
      },
      "source": [
        "from collections import defaultdict\n",
        "\n",
        "def get_token_frequencies_and_cooccurrences(data, context_size):\n",
        "    \"\"\" \n",
        "    Compute token frequencies and cooccurrences from data\n",
        "\n",
        "    args: \n",
        "        - data: a list of list of words (or tokens)\n",
        "        - context_size: the vocabulary size to prune to\n",
        "    \n",
        "    return:\n",
        "        A tuple containing:\n",
        "        - tok2freq: a dictionary mapping from words to count\n",
        "        - cooccur_counts: a dictionary of dictionaries, where\n",
        "\n",
        "              cooccur_counts[word1][word2]\n",
        "\n",
        "          is how often word1 cooccurs with word2 within a given context_size\n",
        "    \"\"\"\n",
        "    tok2freq = defaultdict(int)\n",
        "    cooccur_counts = defaultdict(lambda: defaultdict(int))\n",
        "\n",
        "    for datum in data:\n",
        "        for i, tok in enumerate(datum):\n",
        "            tok2freq[tok] += 1\n",
        "            for k in range(context_size + 1):\n",
        "                # === Exercise Start [1/3] === #\n",
        "                if i + k < len(datum):\n",
        "                  cooccur_counts[tok][datum[i+k]] += 1\n",
        "                ####raise NotImplementedError()\n",
        "                # === Exercise End [1/3] === #\n",
        "    return tok2freq, cooccur_counts\n",
        "\n",
        "def prune_vocabulary(tok2freq, max_vocab_size):\n",
        "    \"\"\" \n",
        "    Prune vocab by taking max_vocab_size most frequent words \n",
        "\n",
        "    args: \n",
        "        - tok2freq: a dictionary mapping from words to count\n",
        "        - max_vocab_size: the vocabulary size to prune to\n",
        "    \n",
        "    return:\n",
        "        A tuple containing:\n",
        "        - tok2idx: a dictionary mapping from words to the index in idx2tok\n",
        "        - idx2tok: a list of words (the vocabulary), of length max_vocab_size\n",
        "    \"\"\"\n",
        "    tok_and_freqs = [(k, v) for k, v in tok2freq.items()]\n",
        "    # === Exercise Start [2/3] === #\n",
        "    sort_tok_and_freqs = sorted(tok_and_freqs, key=lambda x: x[1], reverse=True)\n",
        "    sort_tok_and_freqs = sort_tok_and_freqs[:max_vocab_size]\n",
        "    tok2idx = {}\n",
        "    for i, item in enumerate(sort_tok_and_freqs):\n",
        "      tok2idx[item[0]] = i\n",
        "    idx2tok = list(tok2idx.keys())\n",
        "    ####raise NotImplementedError()\n",
        "    # === Exercise End [2/3] === #\n",
        "    return tok2idx, idx2tok\n",
        "\n",
        "def build_cooccurrence_mat_from_counts(idx2tok, cooccur_counts):\n",
        "    \"\"\" Build a cooccurrence matrix from counts and a vocab\n",
        "    args:\n",
        "        - idx2tok: a list of words (the vocabulary), of length N\n",
        "        - cooccur_counts: a dictionary of dictionaries, where\n",
        "\n",
        "              cooccur_counts[word1][word2]\n",
        "\n",
        "          is how often word1 cooccurs with word2\n",
        "    return:\n",
        "        - mat: an NxN matrix (symmetric) of the occurrence counts of the\n",
        "               words in idx2tok\n",
        "    \"\"\"\n",
        "    vocab_size = len(idx2tok)\n",
        "    mat = np.zeros([vocab_size, vocab_size])\n",
        "    for i in tqdm.tqdm_notebook(range(vocab_size)):\n",
        "        for j in range(i, vocab_size):\n",
        "            # === Exercise Start [3/3] === #\n",
        "            # (i,j)th element in the matrix shows the number of times word \n",
        "            # with index i shows up with word with index j within the context size.\n",
        "            mat[i,j] = cooccur_counts[idx2tok[i]][idx2tok[j]] + cooccur_counts[idx2tok[j]][idx2tok[i]]\n",
        "            mat[j,i] = cooccur_counts[idx2tok[i]][idx2tok[j]] + cooccur_counts[idx2tok[j]][idx2tok[i]]\n",
        "            #####raise NotImplementedError()\n",
        "            # === Exercise End [3/3] === #\n",
        "    return mat"
      ],
      "execution_count": 0,
      "outputs": []
    },
    {
      "cell_type": "markdown",
      "metadata": {
        "id": "LfImY8VcNl5z",
        "colab_type": "text"
      },
      "source": [
        "Let's build a cooccurrence matrix with `context_size=2`."
      ]
    },
    {
      "cell_type": "code",
      "metadata": {
        "id": "oaIAY8oTEXLP",
        "colab_type": "code",
        "colab": {
          "base_uri": "https://localhost:8080/",
          "height": 153,
          "referenced_widgets": [
            "9186cb92a1e1474aa84e58020eee25bf",
            "fc45e140ddfe425f940190834ec36c4e",
            "1e7d19567dba4e67b6b995b7f094d814",
            "fca09cf5b9f54983a41655103d5ccdcc",
            "a15136182f844c2bbb59c9c8cf8587ff",
            "d3c4b406dbe6444d8c3c98519802dad2",
            "2a07142fb4f544c9bd8044dc6b8a8932",
            "8537b7ea542f41049a2c7e76fbc95252"
          ]
        },
        "outputId": "ec4d391b-2272-45a4-b37a-d6db9db82202"
      },
      "source": [
        "mat, tok2idx, idx2tok, _ = build_cooccurrence_matrix(data, max_vocab_size=10000, context_size=2)\n",
        "##assert np.array_equal(mat, mat.T)"
      ],
      "execution_count": 38,
      "outputs": [
        {
          "output_type": "stream",
          "text": [
            "Counting words...\n",
            "\tFinished counting 21669 words in 0.50209\n",
            "Pruning vocabulary...\n",
            "\tFinished pruning vocabulary to 10000 words in 0.00000\n",
            "Building co-occurrence matrix...\n"
          ],
          "name": "stdout"
        },
        {
          "output_type": "display_data",
          "data": {
            "application/vnd.jupyter.widget-view+json": {
              "model_id": "9186cb92a1e1474aa84e58020eee25bf",
              "version_minor": 0,
              "version_major": 2
            },
            "text/plain": [
              "HBox(children=(IntProgress(value=0, max=10000), HTML(value='')))"
            ]
          },
          "metadata": {
            "tags": []
          }
        },
        {
          "output_type": "stream",
          "text": [
            "\tFinished building co-occurrence matrix in 125.78301\n"
          ],
          "name": "stdout"
        }
      ]
    },
    {
      "cell_type": "code",
      "metadata": {
        "id": "aNe_CAgre_QK",
        "colab_type": "code",
        "colab": {
          "base_uri": "https://localhost:8080/",
          "height": 34
        },
        "outputId": "33edffd7-23a8-49b6-ac37-5d0a1249eeaf"
      },
      "source": [
        "tok1 = \"the\"\n",
        "tok2 = \"end\"\n",
        "print(\"'{}' and '{}' co-occur {} times\".format(tok1, tok2, mat[tok2idx[tok1]][tok2idx[tok2]]))"
      ],
      "execution_count": 39,
      "outputs": [
        {
          "output_type": "stream",
          "text": [
            "'the' and 'end' co-occur 98.0 times\n"
          ],
          "name": "stdout"
        }
      ]
    },
    {
      "cell_type": "markdown",
      "metadata": {
        "id": "h_iprP4ve_QQ",
        "colab_type": "text"
      },
      "source": [
        "### Question 2.2 [15]\n",
        "\n",
        "We are going to evaluate the effect of varying context size in $\\{1, 2, 3, 4\\}$ (leaving all the other settings the same) on the quality of the learned word embeddings, as measured by performance (Spearman correlation) on the word similarity dataset [MTurk-771](http://www2.mta.ac.il/~gideon/mturk771.html) between human judgments and cosine similarity of the learned word vectors (the coccurrence matrices).\n",
        "\n",
        "In this exercise, you will fill in parts of the code in the `evaluate_word_similarity` function. (Hint: make use of the imports we include at the top of the code block; the solution should be pretty short!)"
      ]
    },
    {
      "cell_type": "code",
      "metadata": {
        "id": "ktX17VQ9MjCH",
        "colab_type": "code",
        "colab": {}
      },
      "source": [
        "# Hint: some helpful imports!\n",
        "from scipy.stats import spearmanr\n",
        "from sklearn.metrics.pairwise import cosine_similarity\n",
        "\n",
        "\n",
        "def load_word_similarity_dataset(data_file):\n",
        "    mturk_df = pd.read_csv(mturk_path, names=[\"word1\", \"word2\", \"similarity\"])\n",
        "    return mturk_df\n",
        "\n",
        "\n",
        "def evaluate_word_similarity(mturk_df, mat, tok2idx):\n",
        "    \"\"\" Evaluate the word embeddings by comparing the word similarities \n",
        "        to the word similarity scores from the MTurk-771 data.\n",
        "    Notes:\n",
        "        - In some cases, the words in the MTurk-771 data may not appear in \n",
        "          our vocabulary. In those cases, we will simpy skip over those\n",
        "          MTurk-771 examples.\n",
        "        - Use cosine_similarity to compute word similarities, and use\n",
        "          spearmanr to compute the overall rank correlation.\n",
        "\n",
        "    args:\n",
        "        - mturk_df: DataFrame of MTurk-711 data\n",
        "        - mat: cooccurrence matrix computed from above. These will serve as \n",
        "               our word embeddings.\n",
        "        - idx2tok: a list of words (the vocabulary), of length N\n",
        "\n",
        "    return:\n",
        "        - rho: the rank correlation between the predicted word similarities\n",
        "               and the ground truth word similarities from MTurk-771\n",
        "    \"\"\"\n",
        "    preds = []\n",
        "    trgs = []\n",
        "    n_exs = 0\n",
        "    for row in mturk_df.itertuples():\n",
        "        if row.word1 in tok2idx and row.word2 in tok2idx:\n",
        "            # === Exercise Start [1/2] === #\n",
        "            #####pred_sim = NotImplemented\n",
        "            pred_sim = float(cosine_similarity(mat[tok2idx[row.word1]].reshape(1,-1), \n",
        "                                               mat[tok2idx[row.word2]].reshape(1,-1))\n",
        "                                               .flatten()\n",
        "                                               .item())\n",
        "            # === Exercise End [1/2] === #\n",
        "            preds.append(pred_sim)\n",
        "            trgs.append(row.similarity)\n",
        "            n_exs += 1\n",
        "\n",
        "    # === Exercise Start [2/2] === #\n",
        "    ####rho = NotImplemented\n",
        "    rho = spearmanr(preds, trgs)[0]\n",
        "    # === Exercise End [2/2] === #\n",
        "    print(\"Evaluated on %d of %d examples\" % (n_exs, len(mturk_df)))\n",
        "    return rho"
      ],
      "execution_count": 0,
      "outputs": []
    },
    {
      "cell_type": "code",
      "metadata": {
        "id": "ksl3dtOhe_QW",
        "colab_type": "code",
        "colab": {
          "base_uri": "https://localhost:8080/",
          "height": 649,
          "referenced_widgets": [
            "b3fe6d6006af4bf4b8dd802a20b13a92",
            "4485d789f6b24462abcbc026a82f93bc",
            "58d06620e67741f0b66fe2e63d609cda",
            "a322358f6a0a452fa123fbccec0125a3",
            "0281f2b92bbe4348bf59fe6fedcbfa4e",
            "d4885fafa3884467a592e5c7e9904ecd",
            "2dbf9b8976ac4121832e7621543a6ac2",
            "b30ca71804c84127adbedaddc01d87f7",
            "67ef848ebc624e44939a37f590f08d55",
            "32c6311940474a9596115c3f5c20a50f",
            "8f797538feed47a786085f1c0043e4f8",
            "bd30e4b76cec48f9a5c8b1cb9018b14e",
            "bc32584c93e142f8912a91a33a4207b1",
            "15cc65b634cd4188897a2335d00ce67e",
            "132e63600a5f4292870ae6891029d925",
            "d2d044240b134527ad20de65538ff435",
            "9c2847172cf84659af0120b5c13eeabf",
            "6245105d164d4160b3ca1a804c20cb21",
            "5a9999bbb47f4f768752268a52b6680a",
            "cee06660bece40298b0f30e71f991256",
            "1a22e5ffddf440a0b05dce30d398157e",
            "0796a15e66e5424981b5e70f2f3fe869",
            "d542948a9eff4c749eea897026ee992f",
            "1852c431165b484ca0a0228611833344",
            "07bed817abda48d5ab465eb096bde69b",
            "3713a73128bd40a194e5b986ff3575c1",
            "cba91245a2ec4ff19c85f04e17f3a9a2",
            "1a12108c4364408680ec28c9ef4d3f48",
            "87893c19b27e4625a0b5cbeb8fde6bb7",
            "957d8cc85046442a8ddd47726d03f8d9",
            "f1e73f12946540fab5f339865d4c89d2",
            "363882e75ce84e9897aef9bbfd995888"
          ]
        },
        "outputId": "7bc77d3a-f978-449e-f932-7390a0848919"
      },
      "source": [
        "mturk_df = load_word_similarity_dataset(mturk_path)\n",
        "scores = []\n",
        "context_sizes = [1, 2, 3, 4]\n",
        "for context_size in context_sizes:\n",
        "    mat, tok2idx, idx2tok, _ = build_cooccurrence_matrix(data, max_vocab_size=10000, context_size=context_size)\n",
        "    score = evaluate_word_similarity(mturk_df, mat, tok2idx)\n",
        "    scores.append(score)\n",
        "print(scores)"
      ],
      "execution_count": 49,
      "outputs": [
        {
          "output_type": "stream",
          "text": [
            "Counting words...\n",
            "\tFinished counting 21669 words in 0.37823\n",
            "Pruning vocabulary...\n",
            "\tFinished pruning vocabulary to 10000 words in 0.00000\n",
            "Building co-occurrence matrix...\n"
          ],
          "name": "stdout"
        },
        {
          "output_type": "display_data",
          "data": {
            "application/vnd.jupyter.widget-view+json": {
              "model_id": "b3fe6d6006af4bf4b8dd802a20b13a92",
              "version_minor": 0,
              "version_major": 2
            },
            "text/plain": [
              "HBox(children=(IntProgress(value=0, max=10000), HTML(value='')))"
            ]
          },
          "metadata": {
            "tags": []
          }
        },
        {
          "output_type": "stream",
          "text": [
            "\tFinished building co-occurrence matrix in 120.64555\n",
            "Evaluated on 249 of 771 examples\n",
            "Counting words...\n",
            "\tFinished counting 21669 words in 0.47530\n",
            "Pruning vocabulary...\n",
            "\tFinished pruning vocabulary to 10000 words in 0.00000\n",
            "Building co-occurrence matrix...\n"
          ],
          "name": "stdout"
        },
        {
          "output_type": "display_data",
          "data": {
            "application/vnd.jupyter.widget-view+json": {
              "model_id": "67ef848ebc624e44939a37f590f08d55",
              "version_minor": 0,
              "version_major": 2
            },
            "text/plain": [
              "HBox(children=(IntProgress(value=0, max=10000), HTML(value='')))"
            ]
          },
          "metadata": {
            "tags": []
          }
        },
        {
          "output_type": "stream",
          "text": [
            "\tFinished building co-occurrence matrix in 121.92071\n",
            "Evaluated on 249 of 771 examples\n",
            "Counting words...\n",
            "\tFinished counting 21669 words in 2.87852\n",
            "Pruning vocabulary...\n",
            "\tFinished pruning vocabulary to 10000 words in 0.00000\n",
            "Building co-occurrence matrix...\n"
          ],
          "name": "stdout"
        },
        {
          "output_type": "display_data",
          "data": {
            "application/vnd.jupyter.widget-view+json": {
              "model_id": "9c2847172cf84659af0120b5c13eeabf",
              "version_minor": 0,
              "version_major": 2
            },
            "text/plain": [
              "HBox(children=(IntProgress(value=0, max=10000), HTML(value='')))"
            ]
          },
          "metadata": {
            "tags": []
          }
        },
        {
          "output_type": "stream",
          "text": [
            "\tFinished building co-occurrence matrix in 119.02796\n",
            "Evaluated on 249 of 771 examples\n",
            "Counting words...\n",
            "\tFinished counting 21669 words in 0.68436\n",
            "Pruning vocabulary...\n",
            "\tFinished pruning vocabulary to 10000 words in 0.00000\n",
            "Building co-occurrence matrix...\n"
          ],
          "name": "stdout"
        },
        {
          "output_type": "display_data",
          "data": {
            "application/vnd.jupyter.widget-view+json": {
              "model_id": "07bed817abda48d5ab465eb096bde69b",
              "version_minor": 0,
              "version_major": 2
            },
            "text/plain": [
              "HBox(children=(IntProgress(value=0, max=10000), HTML(value='')))"
            ]
          },
          "metadata": {
            "tags": []
          }
        },
        {
          "output_type": "stream",
          "text": [
            "\tFinished building co-occurrence matrix in 119.99999\n",
            "Evaluated on 249 of 771 examples\n",
            "[-0.027695845512019604, 0.045723348469658316, 0.09051562477814827, 0.09571689782186969]\n"
          ],
          "name": "stdout"
        }
      ]
    },
    {
      "cell_type": "code",
      "metadata": {
        "id": "LHOxuRuYBioi",
        "colab_type": "code",
        "colab": {
          "base_uri": "https://localhost:8080/",
          "height": 34
        },
        "outputId": "cb5fe210-4e34-4424-b821-980d75aa1e39"
      },
      "source": [
        "score = evaluate_word_similarity(mturk_df, mat, tok2idx)"
      ],
      "execution_count": 50,
      "outputs": [
        {
          "output_type": "stream",
          "text": [
            "Evaluated on 249 of 771 examples\n"
          ],
          "name": "stdout"
        }
      ]
    },
    {
      "cell_type": "code",
      "metadata": {
        "id": "m7ZMgciye_Qa",
        "colab_type": "code",
        "colab": {
          "base_uri": "https://localhost:8080/",
          "height": 297
        },
        "outputId": "93bb82cf-7a1c-4ce6-b526-8d49616e27e6"
      },
      "source": [
        "plt.plot(context_sizes, scores, marker='o')\n",
        "plt.xlabel(\"Context size\")\n",
        "plt.ylabel(\"Word similarity correlation\")"
      ],
      "execution_count": 51,
      "outputs": [
        {
          "output_type": "execute_result",
          "data": {
            "text/plain": [
              "Text(0, 0.5, 'Word similarity correlation')"
            ]
          },
          "metadata": {
            "tags": []
          },
          "execution_count": 51
        },
        {
          "output_type": "display_data",
          "data": {
            "image/png": "[encoded data removed]",
            "text/plain": [
              "<Figure size 432x288 with 1 Axes>"
            ]
          },
          "metadata": {
            "tags": []
          }
        }
      ]
    },
    {
      "cell_type": "code",
      "metadata": {
        "id": "JvvTXLbne_Qf",
        "colab_type": "code",
        "colab": {}
      },
      "source": [
        ""
      ],
      "execution_count": 0,
      "outputs": []
    }
  ]
}